{
 "cells": [
  {
   "cell_type": "markdown",
   "metadata": {},
   "source": [
    "# Recommender systems: Factorization Machines "
   ]
  },
  {
   "cell_type": "markdown",
   "metadata": {},
   "source": [
    "Source (FM): https://www.csie.ntu.edu.tw/~b97053/paper/Rendle2010FM.pdf\n",
    "\n",
    "Source (Triplet Loss): https://en.wikipedia.org/wiki/Triplet_loss \n",
    "\n",
    "Source (Keras): https://keras.io/api/layers/core_layers/\n",
    "\n",
    "Source (AUC-ROC-CURVE): https://en.wikipedia.org/wiki/Receiver_operating_characteristic"
   ]
  },
  {
   "cell_type": "markdown",
   "metadata": {},
   "source": [
    "The goal of this project is to:\n",
    " - offer an implementation of the FM model using keras layers\n",
    " - compare the performance of the FM model with a baseline (and triplet loss)\n",
    " - show how the FM model with an augmented dataset solves the cold start problem\n",
    " - provide a movie representation based on preferences"
   ]
  },
  {
   "cell_type": "markdown",
   "metadata": {},
   "source": [
    "## Preliminary work"
   ]
  },
  {
   "cell_type": "markdown",
   "metadata": {},
   "source": [
    "#### 1. Import libraries"
   ]
  },
  {
   "cell_type": "code",
   "execution_count": 208,
   "metadata": {},
   "outputs": [],
   "source": [
    "import matplotlib.pyplot as plt\n",
    "import numpy as np\n",
    "import scipy.sparse as sparse\n",
    "import scipy.stats as stats\n",
    "import pandas as pd"
   ]
  },
  {
   "cell_type": "code",
   "execution_count": 209,
   "metadata": {},
   "outputs": [],
   "source": [
    "from sklearn.metrics import roc_auc_score\n",
    "import tensorflow as tf"
   ]
  },
  {
   "cell_type": "code",
   "execution_count": 210,
   "metadata": {},
   "outputs": [],
   "source": [
    "from keras.models import Model\n",
    "from keras.layers import Embedding, Flatten, Input, Dense, Concatenate\n",
    "from keras.layers import Lambda, Dot, Reshape, Add\n",
    "from keras.regularizers import l2\n",
    "from keras.layers.merge import dot, concatenate\n",
    "from keras.utils import plot_model"
   ]
  },
  {
   "cell_type": "code",
   "execution_count": 211,
   "metadata": {},
   "outputs": [],
   "source": [
    "from IPython.display import display_html\n",
    "# Source: https://stackoverflow.com/questions/38783027/jupyter-notebook-display-two-pandas-tables-side-by-side\n",
    "\n",
    "def display_side_by_side(*args):\n",
    "    html_str=''\n",
    "    for df in args:\n",
    "        html_str+=df.to_html()\n",
    "    display_html(html_str.replace('table','table style=\"display:inline\"'),raw=True)"
   ]
  },
  {
   "cell_type": "markdown",
   "metadata": {},
   "source": [
    "#### 2. Import data"
   ]
  },
  {
   "cell_type": "code",
   "execution_count": 223,
   "metadata": {},
   "outputs": [],
   "source": [
    "path_ml = \"/Users/stanislasbucaille/Desktop/data_bases/data_movieLens/ml-100k/\"\n",
    "\n",
    "users = pd.read_csv(path_ml + 'u.user', delimiter='|', header=None, names=['id','age','sexe','occupation','zip code'])\n",
    "items = pd.read_csv(path_ml + 'u.item', delimiter='|', encoding='latin-1', header=None, names=['movieId','title','date','N','url',*[f'g{i}' for i in range(19)]])\n",
    "occupations = pd.read_csv(path_ml + 'u.occupation', delimiter='\\n', header=None).values\n",
    "genres_ = pd.read_csv(path_ml + 'u.genre', delimiter='\\n', header=None).values\n",
    "\n",
    "train = pd.read_csv(path_ml + 'ua.base', delimiter='\\t', header=None, names=['user_id','movie_id','rating','timestemp'])\n",
    "test = pd.read_csv(path_ml + 'ua.test', delimiter='\\t', header=None, names=['user_id','movie_id','rating','timestemp'])"
   ]
  },
  {
   "cell_type": "code",
   "execution_count": 224,
   "metadata": {},
   "outputs": [],
   "source": [
    "train = train.sort_values(by=['user_id','timestemp'])\n",
    "test = test.sort_values(by=['user_id','timestemp'])"
   ]
  },
  {
   "cell_type": "code",
   "execution_count": 225,
   "metadata": {},
   "outputs": [
    {
     "data": {
      "text/plain": [
       "((90570, 4), (9430, 4))"
      ]
     },
     "execution_count": 225,
     "metadata": {},
     "output_type": "execute_result"
    }
   ],
   "source": [
    "train.shape, test.shape"
   ]
  },
  {
   "cell_type": "code",
   "execution_count": 226,
   "metadata": {},
   "outputs": [
    {
     "data": {
      "text/html": [
       "<div>\n",
       "<style scoped>\n",
       "    .dataframe tbody tr th:only-of-type {\n",
       "        vertical-align: middle;\n",
       "    }\n",
       "\n",
       "    .dataframe tbody tr th {\n",
       "        vertical-align: top;\n",
       "    }\n",
       "\n",
       "    .dataframe thead th {\n",
       "        text-align: right;\n",
       "    }\n",
       "</style>\n",
       "<table border=\"1\" class=\"dataframe\">\n",
       "  <thead>\n",
       "    <tr style=\"text-align: right;\">\n",
       "      <th></th>\n",
       "      <th>user_id</th>\n",
       "      <th>movie_id</th>\n",
       "      <th>rating</th>\n",
       "      <th>timestemp</th>\n",
       "    </tr>\n",
       "  </thead>\n",
       "  <tbody>\n",
       "    <tr>\n",
       "      <td>161</td>\n",
       "      <td>1</td>\n",
       "      <td>168</td>\n",
       "      <td>5</td>\n",
       "      <td>874965478</td>\n",
       "    </tr>\n",
       "  </tbody>\n",
       "</table>\n",
       "</div>"
      ],
      "text/plain": [
       "     user_id  movie_id  rating  timestemp\n",
       "161        1       168       5  874965478"
      ]
     },
     "metadata": {},
     "output_type": "display_data"
    },
    {
     "data": {
      "text/html": [
       "<div>\n",
       "<style scoped>\n",
       "    .dataframe tbody tr th:only-of-type {\n",
       "        vertical-align: middle;\n",
       "    }\n",
       "\n",
       "    .dataframe tbody tr th {\n",
       "        vertical-align: top;\n",
       "    }\n",
       "\n",
       "    .dataframe thead th {\n",
       "        text-align: right;\n",
       "    }\n",
       "</style>\n",
       "<table border=\"1\" class=\"dataframe\">\n",
       "  <thead>\n",
       "    <tr style=\"text-align: right;\">\n",
       "      <th></th>\n",
       "      <th>id</th>\n",
       "      <th>age</th>\n",
       "      <th>sexe</th>\n",
       "      <th>occupation</th>\n",
       "      <th>zip code</th>\n",
       "    </tr>\n",
       "  </thead>\n",
       "  <tbody>\n",
       "    <tr>\n",
       "      <td>0</td>\n",
       "      <td>1</td>\n",
       "      <td>24</td>\n",
       "      <td>M</td>\n",
       "      <td>technician</td>\n",
       "      <td>85711</td>\n",
       "    </tr>\n",
       "  </tbody>\n",
       "</table>\n",
       "</div>"
      ],
      "text/plain": [
       "   id  age sexe  occupation zip code\n",
       "0   1   24    M  technician    85711"
      ]
     },
     "metadata": {},
     "output_type": "display_data"
    },
    {
     "data": {
      "text/html": [
       "<div>\n",
       "<style scoped>\n",
       "    .dataframe tbody tr th:only-of-type {\n",
       "        vertical-align: middle;\n",
       "    }\n",
       "\n",
       "    .dataframe tbody tr th {\n",
       "        vertical-align: top;\n",
       "    }\n",
       "\n",
       "    .dataframe thead th {\n",
       "        text-align: right;\n",
       "    }\n",
       "</style>\n",
       "<table border=\"1\" class=\"dataframe\">\n",
       "  <thead>\n",
       "    <tr style=\"text-align: right;\">\n",
       "      <th></th>\n",
       "      <th>movieId</th>\n",
       "      <th>title</th>\n",
       "      <th>date</th>\n",
       "      <th>N</th>\n",
       "      <th>url</th>\n",
       "      <th>g0</th>\n",
       "      <th>g1</th>\n",
       "      <th>g2</th>\n",
       "      <th>g3</th>\n",
       "      <th>g4</th>\n",
       "      <th>...</th>\n",
       "      <th>g9</th>\n",
       "      <th>g10</th>\n",
       "      <th>g11</th>\n",
       "      <th>g12</th>\n",
       "      <th>g13</th>\n",
       "      <th>g14</th>\n",
       "      <th>g15</th>\n",
       "      <th>g16</th>\n",
       "      <th>g17</th>\n",
       "      <th>g18</th>\n",
       "    </tr>\n",
       "  </thead>\n",
       "  <tbody>\n",
       "    <tr>\n",
       "      <td>0</td>\n",
       "      <td>1</td>\n",
       "      <td>Toy Story (1995)</td>\n",
       "      <td>01-Jan-1995</td>\n",
       "      <td>NaN</td>\n",
       "      <td>http://us.imdb.com/M/title-exact?Toy%20Story%2...</td>\n",
       "      <td>0</td>\n",
       "      <td>0</td>\n",
       "      <td>0</td>\n",
       "      <td>1</td>\n",
       "      <td>1</td>\n",
       "      <td>...</td>\n",
       "      <td>0</td>\n",
       "      <td>0</td>\n",
       "      <td>0</td>\n",
       "      <td>0</td>\n",
       "      <td>0</td>\n",
       "      <td>0</td>\n",
       "      <td>0</td>\n",
       "      <td>0</td>\n",
       "      <td>0</td>\n",
       "      <td>0</td>\n",
       "    </tr>\n",
       "  </tbody>\n",
       "</table>\n",
       "<p>1 rows × 24 columns</p>\n",
       "</div>"
      ],
      "text/plain": [
       "   movieId             title         date   N  \\\n",
       "0        1  Toy Story (1995)  01-Jan-1995 NaN   \n",
       "\n",
       "                                                 url  g0  g1  g2  g3  g4  ...  \\\n",
       "0  http://us.imdb.com/M/title-exact?Toy%20Story%2...   0   0   0   1   1  ...   \n",
       "\n",
       "   g9  g10  g11  g12  g13  g14  g15  g16  g17  g18  \n",
       "0   0    0    0    0    0    0    0    0    0    0  \n",
       "\n",
       "[1 rows x 24 columns]"
      ]
     },
     "metadata": {},
     "output_type": "display_data"
    }
   ],
   "source": [
    "display(pd.DataFrame(train).head(1), pd.DataFrame(users).head(1), pd.DataFrame(items).head(1))"
   ]
  },
  {
   "cell_type": "markdown",
   "metadata": {},
   "source": [
    "## Data preprocessing"
   ]
  },
  {
   "cell_type": "markdown",
   "metadata": {},
   "source": [
    "#### 1. Clean data"
   ]
  },
  {
   "cell_type": "markdown",
   "metadata": {},
   "source": [
    "Users"
   ]
  },
  {
   "cell_type": "code",
   "execution_count": 227,
   "metadata": {},
   "outputs": [
    {
     "data": {
      "text/html": [
       "<div>\n",
       "<style scoped>\n",
       "    .dataframe tbody tr th:only-of-type {\n",
       "        vertical-align: middle;\n",
       "    }\n",
       "\n",
       "    .dataframe tbody tr th {\n",
       "        vertical-align: top;\n",
       "    }\n",
       "\n",
       "    .dataframe thead th {\n",
       "        text-align: right;\n",
       "    }\n",
       "</style>\n",
       "<table border=\"1\" class=\"dataframe\">\n",
       "  <thead>\n",
       "    <tr style=\"text-align: right;\">\n",
       "      <th></th>\n",
       "      <th>id</th>\n",
       "      <th>age</th>\n",
       "      <th>sexe</th>\n",
       "      <th>occupation</th>\n",
       "      <th>zip code</th>\n",
       "    </tr>\n",
       "  </thead>\n",
       "  <tbody>\n",
       "    <tr>\n",
       "      <td>0</td>\n",
       "      <td>1</td>\n",
       "      <td>24</td>\n",
       "      <td>M</td>\n",
       "      <td>technician</td>\n",
       "      <td>85711</td>\n",
       "    </tr>\n",
       "  </tbody>\n",
       "</table>\n",
       "</div>"
      ],
      "text/plain": [
       "   id  age sexe  occupation zip code\n",
       "0   1   24    M  technician    85711"
      ]
     },
     "execution_count": 227,
     "metadata": {},
     "output_type": "execute_result"
    }
   ],
   "source": [
    "users.head(1)"
   ]
  },
  {
   "cell_type": "code",
   "execution_count": 228,
   "metadata": {},
   "outputs": [],
   "source": [
    "# drop id, zip_code \n",
    "#users = users.drop(['zip code', 'id'], axis=1)\n",
    "users = users.drop(['zip code'], axis=1)\n",
    "\n",
    "# map sexe\n",
    "users['sexe'] = (users['sexe'] == 'M')*1\n",
    "\n",
    "# map occupation\n",
    "dic_occ = {}\n",
    "id_occ = 0\n",
    "for occ in occupations.ravel():\n",
    "    dic_occ[occ] = id_occ\n",
    "    id_occ += 1\n",
    "\n",
    "df_occ = []\n",
    "for occ in users['occupation']:\n",
    "    df_occ.append([dic_occ[occ]])\n",
    "\n",
    "users['occupation'] = pd.DataFrame(df_occ)\n",
    "\n",
    "# map age\n",
    "df_age = []\n",
    "for age in users['age']:\n",
    "    if age <= 25:\n",
    "        df_age.append([0])\n",
    "    elif 25 < age <= 50:\n",
    "        df_age.append([1])\n",
    "    elif 50 < age:\n",
    "        df_age.append([2])\n",
    "        \n",
    "users['age'] = pd.DataFrame(df_age)"
   ]
  },
  {
   "cell_type": "code",
   "execution_count": 229,
   "metadata": {},
   "outputs": [
    {
     "data": {
      "text/html": [
       "<div>\n",
       "<style scoped>\n",
       "    .dataframe tbody tr th:only-of-type {\n",
       "        vertical-align: middle;\n",
       "    }\n",
       "\n",
       "    .dataframe tbody tr th {\n",
       "        vertical-align: top;\n",
       "    }\n",
       "\n",
       "    .dataframe thead th {\n",
       "        text-align: right;\n",
       "    }\n",
       "</style>\n",
       "<table border=\"1\" class=\"dataframe\">\n",
       "  <thead>\n",
       "    <tr style=\"text-align: right;\">\n",
       "      <th></th>\n",
       "      <th>id</th>\n",
       "      <th>age</th>\n",
       "      <th>sexe</th>\n",
       "      <th>occupation</th>\n",
       "    </tr>\n",
       "  </thead>\n",
       "  <tbody>\n",
       "    <tr>\n",
       "      <td>0</td>\n",
       "      <td>1</td>\n",
       "      <td>0</td>\n",
       "      <td>1</td>\n",
       "      <td>19</td>\n",
       "    </tr>\n",
       "  </tbody>\n",
       "</table>\n",
       "</div>"
      ],
      "text/plain": [
       "   id  age  sexe  occupation\n",
       "0   1    0     1          19"
      ]
     },
     "execution_count": 229,
     "metadata": {},
     "output_type": "execute_result"
    }
   ],
   "source": [
    "users.head(1)"
   ]
  },
  {
   "cell_type": "markdown",
   "metadata": {},
   "source": [
    "Items"
   ]
  },
  {
   "cell_type": "code",
   "execution_count": 230,
   "metadata": {},
   "outputs": [
    {
     "data": {
      "text/html": [
       "<div>\n",
       "<style scoped>\n",
       "    .dataframe tbody tr th:only-of-type {\n",
       "        vertical-align: middle;\n",
       "    }\n",
       "\n",
       "    .dataframe tbody tr th {\n",
       "        vertical-align: top;\n",
       "    }\n",
       "\n",
       "    .dataframe thead th {\n",
       "        text-align: right;\n",
       "    }\n",
       "</style>\n",
       "<table border=\"1\" class=\"dataframe\">\n",
       "  <thead>\n",
       "    <tr style=\"text-align: right;\">\n",
       "      <th></th>\n",
       "      <th>movieId</th>\n",
       "      <th>title</th>\n",
       "      <th>date</th>\n",
       "      <th>N</th>\n",
       "      <th>url</th>\n",
       "      <th>g0</th>\n",
       "      <th>g1</th>\n",
       "      <th>g2</th>\n",
       "      <th>g3</th>\n",
       "      <th>g4</th>\n",
       "      <th>...</th>\n",
       "      <th>g9</th>\n",
       "      <th>g10</th>\n",
       "      <th>g11</th>\n",
       "      <th>g12</th>\n",
       "      <th>g13</th>\n",
       "      <th>g14</th>\n",
       "      <th>g15</th>\n",
       "      <th>g16</th>\n",
       "      <th>g17</th>\n",
       "      <th>g18</th>\n",
       "    </tr>\n",
       "  </thead>\n",
       "  <tbody>\n",
       "    <tr>\n",
       "      <td>0</td>\n",
       "      <td>1</td>\n",
       "      <td>Toy Story (1995)</td>\n",
       "      <td>01-Jan-1995</td>\n",
       "      <td>NaN</td>\n",
       "      <td>http://us.imdb.com/M/title-exact?Toy%20Story%2...</td>\n",
       "      <td>0</td>\n",
       "      <td>0</td>\n",
       "      <td>0</td>\n",
       "      <td>1</td>\n",
       "      <td>1</td>\n",
       "      <td>...</td>\n",
       "      <td>0</td>\n",
       "      <td>0</td>\n",
       "      <td>0</td>\n",
       "      <td>0</td>\n",
       "      <td>0</td>\n",
       "      <td>0</td>\n",
       "      <td>0</td>\n",
       "      <td>0</td>\n",
       "      <td>0</td>\n",
       "      <td>0</td>\n",
       "    </tr>\n",
       "  </tbody>\n",
       "</table>\n",
       "<p>1 rows × 24 columns</p>\n",
       "</div>"
      ],
      "text/plain": [
       "   movieId             title         date   N  \\\n",
       "0        1  Toy Story (1995)  01-Jan-1995 NaN   \n",
       "\n",
       "                                                 url  g0  g1  g2  g3  g4  ...  \\\n",
       "0  http://us.imdb.com/M/title-exact?Toy%20Story%2...   0   0   0   1   1  ...   \n",
       "\n",
       "   g9  g10  g11  g12  g13  g14  g15  g16  g17  g18  \n",
       "0   0    0    0    0    0    0    0    0    0    0  \n",
       "\n",
       "[1 rows x 24 columns]"
      ]
     },
     "execution_count": 230,
     "metadata": {},
     "output_type": "execute_result"
    }
   ],
   "source": [
    "items.head(1)"
   ]
  },
  {
   "cell_type": "code",
   "execution_count": 231,
   "metadata": {},
   "outputs": [],
   "source": [
    "# drop id, url, N, date\n",
    "#items = items.drop(['movieId','url', 'N', 'date'], axis = 1)\n",
    "items = items.drop(['url', 'N', 'date'], axis = 1)\n",
    "\n",
    "# genres\n",
    "titles = items['title']\n",
    "genres = items.drop(['title'], axis = 1)\n",
    "\n",
    "df_genres = []\n",
    "for i in range(len(genres)):\n",
    "    #item_genres = np.array(genres.iloc[i])\n",
    "    #df_genres.append((item_genres,))\n",
    "    \n",
    "    # Only keep the first genre \n",
    "    item_genres = np.where(genres.iloc[i])[0][0]\n",
    "    df_genres.append([item_genres])\n",
    "\n",
    "items = pd.DataFrame(titles)\n",
    "items['genres'] = pd.DataFrame(df_genres, columns=['cat_genres'])"
   ]
  },
  {
   "cell_type": "code",
   "execution_count": 233,
   "metadata": {},
   "outputs": [],
   "source": [
    "items_ = pd.DataFrame(titles)\n",
    "items_['genres'] = pd.DataFrame(df_genres, columns=['cat_genres'])"
   ]
  },
  {
   "cell_type": "code",
   "execution_count": 236,
   "metadata": {},
   "outputs": [
    {
     "data": {
      "text/html": [
       "<div>\n",
       "<style scoped>\n",
       "    .dataframe tbody tr th:only-of-type {\n",
       "        vertical-align: middle;\n",
       "    }\n",
       "\n",
       "    .dataframe tbody tr th {\n",
       "        vertical-align: top;\n",
       "    }\n",
       "\n",
       "    .dataframe thead th {\n",
       "        text-align: right;\n",
       "    }\n",
       "</style>\n",
       "<table border=\"1\" class=\"dataframe\">\n",
       "  <thead>\n",
       "    <tr style=\"text-align: right;\">\n",
       "      <th></th>\n",
       "      <th>movieId</th>\n",
       "      <th>g0</th>\n",
       "      <th>g1</th>\n",
       "      <th>g2</th>\n",
       "      <th>g3</th>\n",
       "      <th>g4</th>\n",
       "      <th>g5</th>\n",
       "      <th>g6</th>\n",
       "      <th>g7</th>\n",
       "      <th>g8</th>\n",
       "      <th>...</th>\n",
       "      <th>g10</th>\n",
       "      <th>g11</th>\n",
       "      <th>g12</th>\n",
       "      <th>g13</th>\n",
       "      <th>g14</th>\n",
       "      <th>g15</th>\n",
       "      <th>g16</th>\n",
       "      <th>g17</th>\n",
       "      <th>g18</th>\n",
       "      <th>genres</th>\n",
       "    </tr>\n",
       "  </thead>\n",
       "  <tbody>\n",
       "    <tr>\n",
       "      <td>0</td>\n",
       "      <td>1</td>\n",
       "      <td>0</td>\n",
       "      <td>0</td>\n",
       "      <td>0</td>\n",
       "      <td>1</td>\n",
       "      <td>1</td>\n",
       "      <td>1</td>\n",
       "      <td>0</td>\n",
       "      <td>0</td>\n",
       "      <td>0</td>\n",
       "      <td>...</td>\n",
       "      <td>0</td>\n",
       "      <td>0</td>\n",
       "      <td>0</td>\n",
       "      <td>0</td>\n",
       "      <td>0</td>\n",
       "      <td>0</td>\n",
       "      <td>0</td>\n",
       "      <td>0</td>\n",
       "      <td>0</td>\n",
       "      <td>0</td>\n",
       "    </tr>\n",
       "  </tbody>\n",
       "</table>\n",
       "<p>1 rows × 21 columns</p>\n",
       "</div>"
      ],
      "text/plain": [
       "   movieId  g0  g1  g2  g3  g4  g5  g6  g7  g8  ...  g10  g11  g12  g13  g14  \\\n",
       "0        1   0   0   0   1   1   1   0   0   0  ...    0    0    0    0    0   \n",
       "\n",
       "   g15  g16  g17  g18  genres  \n",
       "0    0    0    0    0       0  \n",
       "\n",
       "[1 rows x 21 columns]"
      ]
     },
     "execution_count": 236,
     "metadata": {},
     "output_type": "execute_result"
    }
   ],
   "source": [
    "items = items.drop(['title'], axis = 1)\n",
    "items.head(1)"
   ]
  },
  {
   "cell_type": "markdown",
   "metadata": {},
   "source": [
    "#### 2. Convert train & test to sparse matrices"
   ]
  },
  {
   "cell_type": "markdown",
   "metadata": {},
   "source": [
    "Train"
   ]
  },
  {
   "cell_type": "code",
   "execution_count": 237,
   "metadata": {},
   "outputs": [],
   "source": [
    "# Binary classification \n",
    "train['rating'] = (train['rating'] >= 4)*1\n",
    "train = train.drop(['timestemp'], axis=1)\n",
    "\n",
    "# Sparse train\n",
    "row = np.array(train['user_id'].values) - 1\n",
    "col = np.array(train['movie_id'].values) - 1\n",
    "data = train['rating'].values\n",
    "\n",
    "train_rating = sparse.csr_matrix((data, (row, col)))"
   ]
  },
  {
   "cell_type": "markdown",
   "metadata": {},
   "source": [
    "Test"
   ]
  },
  {
   "cell_type": "code",
   "execution_count": 238,
   "metadata": {},
   "outputs": [],
   "source": [
    "# Binary classification \n",
    "test['rating'] = (test['rating'] >= 4)*1\n",
    "test = test.drop(['timestemp'], axis=1)\n",
    "\n",
    "# Sparse test\n",
    "row = np.array(test['user_id'].values) - 1\n",
    "col = np.array(test['movie_id'].values) - 1\n",
    "data = test['rating'].values\n",
    "\n",
    "test_rating = sparse.csr_matrix((data, (row, col)))"
   ]
  },
  {
   "cell_type": "code",
   "execution_count": 239,
   "metadata": {},
   "outputs": [],
   "source": [
    "# Feedbacks \n",
    "train_feedback = train_rating\n",
    "test_feedback = test_rating"
   ]
  },
  {
   "cell_type": "markdown",
   "metadata": {},
   "source": [
    "#### 3. Other useful information"
   ]
  },
  {
   "cell_type": "code",
   "execution_count": 240,
   "metadata": {},
   "outputs": [
    {
     "data": {
      "text/plain": [
       "DescribeResult(nobs=90570, minmax=(0, 1), mean=0.5510213094843768, variance=0.24739955756244064, skewness=-0.20515614730202367, kurtosis=-1.9579109552241896)"
      ]
     },
     "metadata": {},
     "output_type": "display_data"
    },
    {
     "data": {
      "text/plain": [
       "DescribeResult(nobs=9430, minmax=(0, 1), mean=0.5799575821845175, variance=0.2436326209601096, skewness=-0.3239999615325726, kurtosis=-1.8950240249268913)"
      ]
     },
     "metadata": {},
     "output_type": "display_data"
    }
   ],
   "source": [
    "# Some statistics \n",
    "display(stats.describe(train_rating.data)) # train\n",
    "display(stats.describe(test_rating.data))  # test"
   ]
  },
  {
   "cell_type": "code",
   "execution_count": 241,
   "metadata": {},
   "outputs": [
    {
     "data": {
      "text/plain": [
       "(943, 1682, 21, 20)"
      ]
     },
     "execution_count": 241,
     "metadata": {},
     "output_type": "execute_result"
    }
   ],
   "source": [
    "n_users = users.shape[0]\n",
    "n_items = items.shape[0]\n",
    "n_occupations = occupations.shape[0]\n",
    "n_genres = genres.shape[1]\n",
    "\n",
    "n_users, n_items, n_occupations, n_genres"
   ]
  },
  {
   "cell_type": "markdown",
   "metadata": {},
   "source": [
    "## Baseline model"
   ]
  },
  {
   "cell_type": "code",
   "execution_count": 242,
   "metadata": {},
   "outputs": [],
   "source": [
    "dic_Baseline = {}\n",
    "for movie, df_movies  in train.groupby(['movie_id']):\n",
    "    baseline_pred = sum(df_movies['rating'])/len(df_movies['rating'])\n",
    "    dic_Baseline[movie] = baseline_pred"
   ]
  },
  {
   "cell_type": "code",
   "execution_count": 243,
   "metadata": {},
   "outputs": [],
   "source": [
    "scores = []\n",
    "error = 0\n",
    "for u, df_u  in test.groupby(['user_id']):\n",
    "    try:\n",
    "        # Prediction by movie\n",
    "        y_predicted = []\n",
    "        for movie in list(df_u['movie_id']):\n",
    "            y_predicted.append(dic_Baseline[movie])\n",
    "            \n",
    "        # Expectation\n",
    "        y_expected = df_u['rating']\n",
    "\n",
    "        # ROC AUC (there might be a problem if only one class is present)\n",
    "        # Note: in this case it is complicated to use stratified Kfold\n",
    "        scores.append(roc_auc_score(y_expected, y_predicted))\n",
    "    except:\n",
    "        error += 1\n",
    "error = error/n_users"
   ]
  },
  {
   "cell_type": "code",
   "execution_count": 244,
   "metadata": {},
   "outputs": [
    {
     "name": "stdout",
     "output_type": "stream",
     "text": [
      "Score: 0.6980287192482314\n",
      "Error: 4.3%\n"
     ]
    }
   ],
   "source": [
    "print('Score: '+ str(np.mean(scores)))\n",
    "print('Error: '+ str(round(error*1000)/10) + '%')"
   ]
  },
  {
   "cell_type": "markdown",
   "metadata": {},
   "source": [
    "## Content - based"
   ]
  },
  {
   "cell_type": "code",
   "execution_count": 245,
   "metadata": {},
   "outputs": [
    {
     "data": {
      "text/html": [
       "<div>\n",
       "<style scoped>\n",
       "    .dataframe tbody tr th:only-of-type {\n",
       "        vertical-align: middle;\n",
       "    }\n",
       "\n",
       "    .dataframe tbody tr th {\n",
       "        vertical-align: top;\n",
       "    }\n",
       "\n",
       "    .dataframe thead th {\n",
       "        text-align: right;\n",
       "    }\n",
       "</style>\n",
       "<table border=\"1\" class=\"dataframe\">\n",
       "  <thead>\n",
       "    <tr style=\"text-align: right;\">\n",
       "      <th></th>\n",
       "      <th>id</th>\n",
       "      <th>age</th>\n",
       "      <th>sexe</th>\n",
       "      <th>0</th>\n",
       "      <th>1</th>\n",
       "      <th>2</th>\n",
       "      <th>3</th>\n",
       "      <th>4</th>\n",
       "      <th>5</th>\n",
       "      <th>6</th>\n",
       "      <th>...</th>\n",
       "      <th>11</th>\n",
       "      <th>12</th>\n",
       "      <th>13</th>\n",
       "      <th>14</th>\n",
       "      <th>15</th>\n",
       "      <th>16</th>\n",
       "      <th>17</th>\n",
       "      <th>18</th>\n",
       "      <th>19</th>\n",
       "      <th>20</th>\n",
       "    </tr>\n",
       "  </thead>\n",
       "  <tbody>\n",
       "    <tr>\n",
       "      <td>0</td>\n",
       "      <td>1</td>\n",
       "      <td>0</td>\n",
       "      <td>1</td>\n",
       "      <td>0</td>\n",
       "      <td>0</td>\n",
       "      <td>0</td>\n",
       "      <td>0</td>\n",
       "      <td>0</td>\n",
       "      <td>0</td>\n",
       "      <td>0</td>\n",
       "      <td>...</td>\n",
       "      <td>0</td>\n",
       "      <td>0</td>\n",
       "      <td>0</td>\n",
       "      <td>0</td>\n",
       "      <td>0</td>\n",
       "      <td>0</td>\n",
       "      <td>0</td>\n",
       "      <td>0</td>\n",
       "      <td>1</td>\n",
       "      <td>0</td>\n",
       "    </tr>\n",
       "    <tr>\n",
       "      <td>1</td>\n",
       "      <td>2</td>\n",
       "      <td>2</td>\n",
       "      <td>0</td>\n",
       "      <td>0</td>\n",
       "      <td>0</td>\n",
       "      <td>0</td>\n",
       "      <td>0</td>\n",
       "      <td>0</td>\n",
       "      <td>0</td>\n",
       "      <td>0</td>\n",
       "      <td>...</td>\n",
       "      <td>0</td>\n",
       "      <td>0</td>\n",
       "      <td>1</td>\n",
       "      <td>0</td>\n",
       "      <td>0</td>\n",
       "      <td>0</td>\n",
       "      <td>0</td>\n",
       "      <td>0</td>\n",
       "      <td>0</td>\n",
       "      <td>0</td>\n",
       "    </tr>\n",
       "    <tr>\n",
       "      <td>2</td>\n",
       "      <td>3</td>\n",
       "      <td>0</td>\n",
       "      <td>1</td>\n",
       "      <td>0</td>\n",
       "      <td>0</td>\n",
       "      <td>0</td>\n",
       "      <td>0</td>\n",
       "      <td>0</td>\n",
       "      <td>0</td>\n",
       "      <td>0</td>\n",
       "      <td>...</td>\n",
       "      <td>0</td>\n",
       "      <td>0</td>\n",
       "      <td>0</td>\n",
       "      <td>0</td>\n",
       "      <td>0</td>\n",
       "      <td>0</td>\n",
       "      <td>0</td>\n",
       "      <td>0</td>\n",
       "      <td>0</td>\n",
       "      <td>1</td>\n",
       "    </tr>\n",
       "  </tbody>\n",
       "</table>\n",
       "<p>3 rows × 24 columns</p>\n",
       "</div>"
      ],
      "text/plain": [
       "   id  age  sexe  0  1  2  3  4  5  6  ...  11  12  13  14  15  16  17  18  \\\n",
       "0   1    0     1  0  0  0  0  0  0  0  ...   0   0   0   0   0   0   0   0   \n",
       "1   2    2     0  0  0  0  0  0  0  0  ...   0   0   1   0   0   0   0   0   \n",
       "2   3    0     1  0  0  0  0  0  0  0  ...   0   0   0   0   0   0   0   0   \n",
       "\n",
       "   19  20  \n",
       "0   1   0  \n",
       "1   0   0  \n",
       "2   0   1  \n",
       "\n",
       "[3 rows x 24 columns]"
      ]
     },
     "execution_count": 245,
     "metadata": {},
     "output_type": "execute_result"
    }
   ],
   "source": [
    "new_users = users.copy()\n",
    "df_occ = pd.get_dummies(new_users['occupation'])\n",
    "new_users = pd.concat([new_users,df_occ], axis=1).drop(['occupation'], axis=1)\n",
    "\n",
    "new_users.head(3)"
   ]
  },
  {
   "cell_type": "code",
   "execution_count": 246,
   "metadata": {},
   "outputs": [
    {
     "data": {
      "text/plain": [
       "(90570, 9430, 943, 1682)"
      ]
     },
     "execution_count": 246,
     "metadata": {},
     "output_type": "execute_result"
    }
   ],
   "source": [
    "len(train), len(test), len(users), len(items)"
   ]
  },
  {
   "cell_type": "code",
   "execution_count": 263,
   "metadata": {},
   "outputs": [
    {
     "data": {
      "text/html": [
       "<div>\n",
       "<style scoped>\n",
       "    .dataframe tbody tr th:only-of-type {\n",
       "        vertical-align: middle;\n",
       "    }\n",
       "\n",
       "    .dataframe tbody tr th {\n",
       "        vertical-align: top;\n",
       "    }\n",
       "\n",
       "    .dataframe thead th {\n",
       "        text-align: right;\n",
       "    }\n",
       "</style>\n",
       "<table border=\"1\" class=\"dataframe\">\n",
       "  <thead>\n",
       "    <tr style=\"text-align: right;\">\n",
       "      <th></th>\n",
       "      <th>id</th>\n",
       "      <th>age</th>\n",
       "      <th>sexe</th>\n",
       "      <th>0</th>\n",
       "      <th>1</th>\n",
       "      <th>2</th>\n",
       "      <th>3</th>\n",
       "      <th>4</th>\n",
       "      <th>5</th>\n",
       "      <th>6</th>\n",
       "      <th>...</th>\n",
       "      <th>11</th>\n",
       "      <th>12</th>\n",
       "      <th>13</th>\n",
       "      <th>14</th>\n",
       "      <th>15</th>\n",
       "      <th>16</th>\n",
       "      <th>17</th>\n",
       "      <th>18</th>\n",
       "      <th>19</th>\n",
       "      <th>20</th>\n",
       "    </tr>\n",
       "  </thead>\n",
       "  <tbody>\n",
       "    <tr>\n",
       "      <td>0</td>\n",
       "      <td>1</td>\n",
       "      <td>0.0</td>\n",
       "      <td>0.1</td>\n",
       "      <td>0.0</td>\n",
       "      <td>0.0</td>\n",
       "      <td>0.0</td>\n",
       "      <td>0.0</td>\n",
       "      <td>0.0</td>\n",
       "      <td>0.0</td>\n",
       "      <td>0.0</td>\n",
       "      <td>...</td>\n",
       "      <td>0.0</td>\n",
       "      <td>0.0</td>\n",
       "      <td>0.0</td>\n",
       "      <td>0.0</td>\n",
       "      <td>0.0</td>\n",
       "      <td>0.0</td>\n",
       "      <td>0.0</td>\n",
       "      <td>0.0</td>\n",
       "      <td>0.1</td>\n",
       "      <td>0.0</td>\n",
       "    </tr>\n",
       "    <tr>\n",
       "      <td>1</td>\n",
       "      <td>2</td>\n",
       "      <td>0.2</td>\n",
       "      <td>0.0</td>\n",
       "      <td>0.0</td>\n",
       "      <td>0.0</td>\n",
       "      <td>0.0</td>\n",
       "      <td>0.0</td>\n",
       "      <td>0.0</td>\n",
       "      <td>0.0</td>\n",
       "      <td>0.0</td>\n",
       "      <td>...</td>\n",
       "      <td>0.0</td>\n",
       "      <td>0.0</td>\n",
       "      <td>0.1</td>\n",
       "      <td>0.0</td>\n",
       "      <td>0.0</td>\n",
       "      <td>0.0</td>\n",
       "      <td>0.0</td>\n",
       "      <td>0.0</td>\n",
       "      <td>0.0</td>\n",
       "      <td>0.0</td>\n",
       "    </tr>\n",
       "    <tr>\n",
       "      <td>2</td>\n",
       "      <td>3</td>\n",
       "      <td>0.0</td>\n",
       "      <td>0.1</td>\n",
       "      <td>0.0</td>\n",
       "      <td>0.0</td>\n",
       "      <td>0.0</td>\n",
       "      <td>0.0</td>\n",
       "      <td>0.0</td>\n",
       "      <td>0.0</td>\n",
       "      <td>0.0</td>\n",
       "      <td>...</td>\n",
       "      <td>0.0</td>\n",
       "      <td>0.0</td>\n",
       "      <td>0.0</td>\n",
       "      <td>0.0</td>\n",
       "      <td>0.0</td>\n",
       "      <td>0.0</td>\n",
       "      <td>0.0</td>\n",
       "      <td>0.0</td>\n",
       "      <td>0.0</td>\n",
       "      <td>0.1</td>\n",
       "    </tr>\n",
       "  </tbody>\n",
       "</table>\n",
       "<p>3 rows × 24 columns</p>\n",
       "</div>"
      ],
      "text/plain": [
       "   id  age  sexe    0    1    2    3    4    5    6  ...   11   12   13   14  \\\n",
       "0   1  0.0   0.1  0.0  0.0  0.0  0.0  0.0  0.0  0.0  ...  0.0  0.0  0.0  0.0   \n",
       "1   2  0.2   0.0  0.0  0.0  0.0  0.0  0.0  0.0  0.0  ...  0.0  0.0  0.1  0.0   \n",
       "2   3  0.0   0.1  0.0  0.0  0.0  0.0  0.0  0.0  0.0  ...  0.0  0.0  0.0  0.0   \n",
       "\n",
       "    15   16   17   18   19   20  \n",
       "0  0.0  0.0  0.0  0.0  0.1  0.0  \n",
       "1  0.0  0.0  0.0  0.0  0.0  0.0  \n",
       "2  0.0  0.0  0.0  0.0  0.0  0.1  \n",
       "\n",
       "[3 rows x 24 columns]"
      ]
     },
     "execution_count": 263,
     "metadata": {},
     "output_type": "execute_result"
    }
   ],
   "source": [
    "#new_users_ = new_users.div(new_users.sum(axis=1), axis=0)\n",
    "new_users_test = new_users\n",
    "#new_users_test[list(new_users_test)[1:]] = new_users_test[list(new_users_test)[1:]].div(10, axis=0)\n",
    "new_users_test.head(3)"
   ]
  },
  {
   "cell_type": "code",
   "execution_count": 284,
   "metadata": {},
   "outputs": [],
   "source": [
    "n = 3\n",
    "a = [1,3,2,7,1]\n",
    "\n",
    "top_2_idx = np.argsort(a)[-n:]\n",
    "top_2_values = [a[i] for i in top_2_idx]\n"
   ]
  },
  {
   "cell_type": "code",
   "execution_count": 285,
   "metadata": {},
   "outputs": [
    {
     "data": {
      "text/plain": [
       "(array([2, 1, 3]), [2, 3, 7])"
      ]
     },
     "execution_count": 285,
     "metadata": {},
     "output_type": "execute_result"
    }
   ],
   "source": [
    "top_2_idx, top_2_values"
   ]
  },
  {
   "cell_type": "code",
   "execution_count": null,
   "metadata": {},
   "outputs": [],
   "source": [
    "# cluster from cosine similarity\n",
    "from sklearn.metrics.pairwise import cosine_similarity\n",
    "\n",
    "dic_users = {}\n",
    "for user1 in new_users_test.iterrows():\n",
    "    dic_cosinsim = {}\n",
    "    id1 = user1[1]['id']\n",
    "    vect1 = np.array(user1[1][list(new_users_test)[1:]])\n",
    "    for user2 in new_users_test.iterrows():\n",
    "        id2 = user2[1]['id']\n",
    "        vect2 = np.array(user2[1][list(new_users_test)[1:]])\n",
    "        dic_cosinsim[id2] = cosine_similarity([vect1], [vect2])[0][0]\n",
    "        \n",
    "    dic_users[id1] = dic_cosinsim"
   ]
  },
  {
   "cell_type": "code",
   "execution_count": 146,
   "metadata": {},
   "outputs": [],
   "source": [
    "from sklearn.cluster import KMeans\n",
    "\n",
    "def create_clusters(data, n_clusters):\n",
    "    kmeans = KMeans(n_clusters=n_clusters, random_state=0).fit(data)\n",
    "    dic_clusters = {}\n",
    "    for id in range(len(data)):\n",
    "        id_cluster = kmeans.labels_[id]\n",
    "        if id_cluster not in dic_clusters:\n",
    "            dic_clusters[id_cluster] = [id]\n",
    "        else:\n",
    "            dic_clusters[id_cluster].append(id)\n",
    "    \n",
    "    return kmeans, dic_clusters"
   ]
  },
  {
   "cell_type": "code",
   "execution_count": 152,
   "metadata": {},
   "outputs": [],
   "source": [
    "n_clusters = 3\n",
    "kmeans, dic_clusters = create_clusters(new_users, n_clusters=n_clusters)"
   ]
  },
  {
   "cell_type": "code",
   "execution_count": 154,
   "metadata": {},
   "outputs": [],
   "source": [
    "dic_ContentBase = {}\n",
    "\n",
    "for movie, df_movies  in train.groupby(['movie_id']):\n",
    "    for cluster_id in range(n_clusters):\n",
    "        list_users = dic_clusters[cluster_id]\n",
    "        df_cluster = df_movies[df_movies['user_id'].isin(list_users)]\n",
    "        if len(df_cluster['rating']) > 0:\n",
    "            pred_cluster = sum(df_cluster['rating'])/len(df_cluster['rating'])\n",
    "            dic_ContentBase[(cluster_id, movie)] = pred_cluster"
   ]
  },
  {
   "cell_type": "code",
   "execution_count": null,
   "metadata": {},
   "outputs": [],
   "source": [
    "scores = []\n",
    "error = 0\n",
    "for u, df_u  in test.groupby(['user_id']):\n",
    "    # user's cluster\n",
    "    cluster_id = kmeans.labels_[u-1]\n",
    "    try:\n",
    "        # Prediction\n",
    "        y_predicted = []\n",
    "        for movie in list(df_u['movie_id']):\n",
    "            y_predicted.append(dic_ContentBase[(cluster_id, movie)])\n",
    "\n",
    "        # Expectation\n",
    "        y_expected = df_u['rating']\n",
    "\n",
    "        # ROC AUC (there might be a problem if only one class is present)\n",
    "        # Note: in this case it is complicated to use stratified Kfold\n",
    "        scores.append(roc_auc_score(y_expected, y_predicted))\n",
    "    except:\n",
    "        error += 1\n",
    "error = error/n_users"
   ]
  },
  {
   "cell_type": "code",
   "execution_count": null,
   "metadata": {},
   "outputs": [],
   "source": [
    "print('Score: '+ str(np.mean(scores)))\n",
    "print('Error: '+ str(round(error*1000)/10) + '%')"
   ]
  },
  {
   "cell_type": "markdown",
   "metadata": {},
   "source": [
    "###  Content by sim"
   ]
  },
  {
   "cell_type": "code",
   "execution_count": 289,
   "metadata": {},
   "outputs": [],
   "source": [
    "similarities = np.dot(np.array(new_users_test[list(new_users_test)[1:]]), \n",
    "                      np.array(new_users_test[list(new_users_test)[1:]].T))"
   ]
  },
  {
   "cell_type": "code",
   "execution_count": 318,
   "metadata": {},
   "outputs": [
    {
     "data": {
      "text/plain": [
       "943"
      ]
     },
     "execution_count": 318,
     "metadata": {},
     "output_type": "execute_result"
    }
   ],
   "source": [
    "len(similarities)"
   ]
  },
  {
   "cell_type": "code",
   "execution_count": 327,
   "metadata": {},
   "outputs": [],
   "source": [
    "n = 943\n",
    "\n",
    "def get_cluster(u, n):\n",
    "    u_sim = similarities[u]\n",
    "    return np.argsort(u_sim)[-n:]"
   ]
  },
  {
   "cell_type": "code",
   "execution_count": 328,
   "metadata": {},
   "outputs": [],
   "source": [
    "def get_rating(u, i, n):\n",
    "    list_users = get_cluster(u, n)\n",
    "    \n",
    "    df_movies = train[train['movie_id']==i]\n",
    "    df_cluster = df_movies[df_movies['user_id'].isin(list_users)]\n",
    "    \n",
    "    pred = None\n",
    "    if len(df_cluster['rating']) > 0:\n",
    "        pred = sum(df_cluster['rating'])/len(df_cluster['rating'])\n",
    "    return pred"
   ]
  },
  {
   "cell_type": "code",
   "execution_count": 330,
   "metadata": {},
   "outputs": [],
   "source": [
    "def get_scores(n):\n",
    "    scores = []\n",
    "    error = 0\n",
    "    for u, df_u  in test.groupby(['user_id']):\n",
    "        try:\n",
    "            # Prediction\n",
    "            y_predicted = []\n",
    "            for i in list(df_u['movie_id']):\n",
    "                y_predicted.append(get_rating(u, i, n))\n",
    "\n",
    "            # Expectation\n",
    "            y_expected = df_u['rating']\n",
    "\n",
    "            # ROC AUC (there might be a problem if only one class is present)\n",
    "            # Note: in this case it is complicated to use stratified Kfold\n",
    "            scores.append(roc_auc_score(y_expected, y_predicted))\n",
    "        except:\n",
    "            error += 1\n",
    "    error = error/n_users\n",
    "    return np.mean(scores), round(error*1000)/10"
   ]
  },
  {
   "cell_type": "code",
   "execution_count": 331,
   "metadata": {},
   "outputs": [
    {
     "name": "stdout",
     "output_type": "stream",
     "text": [
      "Score: 0.698242098726283\n",
      "Error: 4.5%\n"
     ]
    }
   ],
   "source": [
    "print('Score: '+ str(np.mean(scores)))\n",
    "print('Error: '+ str(round(error*1000)/10) + '%')"
   ]
  },
  {
   "cell_type": "code",
   "execution_count": 332,
   "metadata": {},
   "outputs": [],
   "source": [
    "N = [950, 900, 850, 800, 750, 700, 650, 600, 300, 150, 50]\n",
    "\n",
    "scores = []\n",
    "errors = []\n",
    "for n in N:\n",
    "    score, error = get_scores(n)\n",
    "    scores.append(score)\n",
    "    errors.append(error)"
   ]
  },
  {
   "cell_type": "code",
   "execution_count": 333,
   "metadata": {},
   "outputs": [
    {
     "data": {
      "image/png": "[encoded data removed]",
      "text/plain": [
       "<Figure size 432x288 with 1 Axes>"
      ]
     },
     "metadata": {
      "needs_background": "light"
     },
     "output_type": "display_data"
    }
   ],
   "source": [
    "import matplotlib.pyplot as plt\n",
    "\n",
    "plt.plot(scores)\n",
    "plt.ylabel('some numbers')\n",
    "plt.show()"
   ]
  },
  {
   "cell_type": "code",
   "execution_count": 215,
   "metadata": {},
   "outputs": [],
   "source": [
    "def get_score(n_clusters):\n",
    "    kmeans, dic_clusters = create_clusters(new_users, n_clusters=n_clusters)\n",
    "    dic_rating = get_dic_rating(dic_clusters)\n",
    "    \n",
    "    print(dic_clusters)\n",
    "    print(dic_rating)\n",
    "    \n",
    "    scores = []\n",
    "    errors = []\n",
    "    for u, df_u  in test.groupby(['user_id']):\n",
    "        err = 0\n",
    "        # cluster\n",
    "        c = kmeans.labels_[u-1]\n",
    "\n",
    "        # Prediction / Expectation\n",
    "        predicted = []\n",
    "        expected = []\n",
    "        for i, r in np.array(df_u[['movie_id', 'rating']]):\n",
    "            try:\n",
    "                r_pred = dic_rating[(c,i)]\n",
    "                if pred != None:\n",
    "                    predicted.append(r_pred)\n",
    "                    expected.append(r)\n",
    "                else:\n",
    "                    err += 1\n",
    "            except:\n",
    "                print(\"error 1\")\n",
    "                err += 1\n",
    "        try:\n",
    "            scores.append(roc_auc_score(expected, predicted))\n",
    "            print(score)\n",
    "        except:\n",
    "            print(\"error 2\")\n",
    "            # there is a single class :  \n",
    "            #scores.append(1)\n",
    "            #print(1)\n",
    "            continue\n",
    "        errors.append(err/len(df_u))\n",
    "    \n",
    "    score = np.mean(scores)\n",
    "    error = round(np.mean(errors)*1000)/10\n",
    "    return score, error"
   ]
  },
  {
   "cell_type": "code",
   "execution_count": null,
   "metadata": {},
   "outputs": [],
   "source": [
    "nb_clusters = [1, 3, 7, 10, 25, 50]\n",
    "scores = []\n",
    "for k in nb_clusters:\n",
    "    k_score = get_score(k)[0]\n",
    "    scores.append(k_score)\n",
    "    #print(k, k_score)\n",
    "    break"
   ]
  },
  {
   "cell_type": "markdown",
   "metadata": {},
   "source": [
    "## Triplet loss model"
   ]
  },
  {
   "cell_type": "code",
   "execution_count": 127,
   "metadata": {},
   "outputs": [],
   "source": [
    "# Loss\n",
    "def identity_loss(y_true, y_pred):\n",
    "    return tf.reduce_mean(y_pred + 0 * y_true)\n",
    "\n",
    "def difference_loss(inputs, margin=.5):\n",
    "    positive_pair_sim, negative_pair_sim = inputs\n",
    "    return tf.maximum(negative_pair_sim - positive_pair_sim + margin, 0)"
   ]
  },
  {
   "cell_type": "code",
   "execution_count": 128,
   "metadata": {},
   "outputs": [],
   "source": [
    "# Network\n",
    "\n",
    "def build_triplet_models(n_users, n_items, latent_dim=64):\n",
    "    \"\"\"Build a triplet model and its companion, the match model\n",
    "    \n",
    "    The triplet model is used to train the weights of the \n",
    "    match model. The triplet model takes 1 user, 1 positive item, \n",
    "    1 negative item and is trained with the triplet loss.\n",
    "    \n",
    "    The match model takes 1 user and 1 item as input and returns\n",
    "    the similarity score.\n",
    "    \"\"\"\n",
    "    # inputs\n",
    "    user_input = Input((1,), name='user_input')\n",
    "    positive_item_input = Input((1,), name='positive_item_input')\n",
    "    negative_item_input = Input((1,), name='negative_item_input')\n",
    "\n",
    "    # embeddings\n",
    "    user_layer = Embedding(n_users, latent_dim, \n",
    "                           name='user_embedding')\n",
    "    item_layer = Embedding(n_items, latent_dim, \n",
    "                           name=\"item_embedding\")\n",
    "\n",
    "    user_embedding = Flatten()(user_layer(user_input))\n",
    "    positive_item_embedding = Flatten()(item_layer(positive_item_input))\n",
    "    negative_item_embedding = Flatten()(item_layer(negative_item_input))\n",
    "\n",
    "    # similarity as cosine similarity between embeddings\n",
    "    positive_similarity = Dot(name=\"positive_similarity\",\n",
    "                              axes=1, normalize=True)(\n",
    "        [user_embedding, positive_item_embedding])\n",
    "    negative_similarity = Dot(name=\"negative_similarity\",\n",
    "                              axes=1, normalize=True)(\n",
    "        [user_embedding, negative_item_embedding])\n",
    "\n",
    "    # triplet loss net, only used for training\n",
    "    triplet_loss = Lambda(difference_loss,\n",
    "                          name='triplet_loss',\n",
    "                          output_shape=(1,))([positive_similarity, negative_similarity])\n",
    "\n",
    "    triplet_model = Model(name='Triplet loss net',inputs=[user_input,\n",
    "                                  positive_item_input,\n",
    "                                  negative_item_input],\n",
    "                          outputs=triplet_loss)\n",
    "    \n",
    "    # match model, used to rank items\n",
    "    match_model = Model(name='Match net', inputs=[user_input, positive_item_input],\n",
    "                        outputs=positive_similarity)\n",
    "    \n",
    "    return triplet_model, match_model"
   ]
  },
  {
   "cell_type": "code",
   "execution_count": 129,
   "metadata": {},
   "outputs": [],
   "source": [
    "triplet_model, match_model = build_triplet_models(n_users, n_items)"
   ]
  },
  {
   "cell_type": "code",
   "execution_count": 130,
   "metadata": {},
   "outputs": [
    {
     "name": "stdout",
     "output_type": "stream",
     "text": [
      "Model: \"Triplet loss net\"\n",
      "__________________________________________________________________________________________________\n",
      "Layer (type)                    Output Shape         Param #     Connected to                     \n",
      "==================================================================================================\n",
      "user_input (InputLayer)         (None, 1)            0                                            \n",
      "__________________________________________________________________________________________________\n",
      "positive_item_input (InputLayer (None, 1)            0                                            \n",
      "__________________________________________________________________________________________________\n",
      "negative_item_input (InputLayer (None, 1)            0                                            \n",
      "__________________________________________________________________________________________________\n",
      "user_embedding (Embedding)      (None, 1, 64)        60352       user_input[0][0]                 \n",
      "__________________________________________________________________________________________________\n",
      "item_embedding (Embedding)      (None, 1, 64)        107648      positive_item_input[0][0]        \n",
      "                                                                 negative_item_input[0][0]        \n",
      "__________________________________________________________________________________________________\n",
      "flatten_70 (Flatten)            (None, 64)           0           user_embedding[0][0]             \n",
      "__________________________________________________________________________________________________\n",
      "flatten_71 (Flatten)            (None, 64)           0           item_embedding[0][0]             \n",
      "__________________________________________________________________________________________________\n",
      "flatten_72 (Flatten)            (None, 64)           0           item_embedding[1][0]             \n",
      "__________________________________________________________________________________________________\n",
      "positive_similarity (Dot)       (None, 1)            0           flatten_70[0][0]                 \n",
      "                                                                 flatten_71[0][0]                 \n",
      "__________________________________________________________________________________________________\n",
      "negative_similarity (Dot)       (None, 1)            0           flatten_70[0][0]                 \n",
      "                                                                 flatten_72[0][0]                 \n",
      "__________________________________________________________________________________________________\n",
      "triplet_loss (Lambda)           (None, 1)            0           positive_similarity[0][0]        \n",
      "                                                                 negative_similarity[0][0]        \n",
      "==================================================================================================\n",
      "Total params: 168,000\n",
      "Trainable params: 168,000\n",
      "Non-trainable params: 0\n",
      "__________________________________________________________________________________________________\n",
      "None\n"
     ]
    }
   ],
   "source": [
    "print(triplet_model.summary())"
   ]
  },
  {
   "cell_type": "markdown",
   "metadata": {},
   "source": [
    "#### Metric"
   ]
  },
  {
   "cell_type": "code",
   "execution_count": 131,
   "metadata": {},
   "outputs": [],
   "source": [
    "def model_scores(match_model):\n",
    "    \"\"\"Compute the ROC AUC score of each user\"\"\"\n",
    "    scores = []\n",
    "    error = 0\n",
    "    for i in range(n_users):\n",
    "        # items not in the training set\n",
    "        items_to_rank = np.setdiff1d(np.arange(n_items), train_feedback[i].indices)\n",
    "        \n",
    "        # items in the test set = 1, others = 0\n",
    "        expected = np.in1d(items_to_rank, test_feedback[i].indices)\n",
    "        \n",
    "        # model prediction\n",
    "        repeated_user = np.repeat(i, repeats=len(items_to_rank))\n",
    "        predicted = match_model.predict([repeated_user, items_to_rank], batch_size=4096).ravel()\n",
    "        \n",
    "        # ROC AUC\n",
    "        try:\n",
    "            scores.append(roc_auc_score(expected, predicted))\n",
    "        except:\n",
    "            error += 1\n",
    "            \n",
    "    error = error/n_users\n",
    "    return error, scores"
   ]
  },
  {
   "cell_type": "code",
   "execution_count": 132,
   "metadata": {},
   "outputs": [
    {
     "name": "stdout",
     "output_type": "stream",
     "text": [
      "Score: 0.5001609651730774\n",
      "Error: 0.0%\n"
     ]
    }
   ],
   "source": [
    "error, scores = model_scores(match_model)\n",
    "print('Score: '+ str(np.mean(scores)))\n",
    "print('Error: '+ str(round(error*1000)/10) + '%')"
   ]
  },
  {
   "cell_type": "markdown",
   "metadata": {},
   "source": [
    "As expected, the current model (not yet trained) gives a ROC AUC score similar to that of a random score function."
   ]
  },
  {
   "cell_type": "markdown",
   "metadata": {},
   "source": [
    "#### Sample triplets"
   ]
  },
  {
   "cell_type": "code",
   "execution_count": 133,
   "metadata": {},
   "outputs": [],
   "source": [
    "def sample_triplets():\n",
    "    \"\"\"Sample negatives at random among items not in the train set\"\"\"\n",
    "    \n",
    "    users = []\n",
    "    pos_items = []\n",
    "    neg_items = []\n",
    "    \n",
    "    for i in range(n_users):\n",
    "        items = train_feedback[i].indices\n",
    "        \n",
    "        users += list(i * np.ones_like(items))\n",
    "        pos_items += list(items)\n",
    "        \n",
    "        unseen_items = np.where(1-train_feedback[i].toarray())[1]\n",
    "        neg_items += np.random.choice(unseen_items, size = len(items), replace = False).tolist()\n",
    "\n",
    "    return [np.array(users), np.array(pos_items), np.array(neg_items)]"
   ]
  },
  {
   "cell_type": "code",
   "execution_count": 134,
   "metadata": {},
   "outputs": [],
   "source": [
    "triplet_model, match_model = build_triplet_models(n_users, n_items)"
   ]
  },
  {
   "cell_type": "code",
   "execution_count": 135,
   "metadata": {},
   "outputs": [
    {
     "name": "stderr",
     "output_type": "stream",
     "text": [
      "/opt/anaconda3/lib/python3.7/site-packages/tensorflow_core/python/framework/indexed_slices.py:424: UserWarning: Converting sparse IndexedSlices to a dense Tensor of unknown shape. This may consume a large amount of memory.\n",
      "  \"Converting sparse IndexedSlices to a dense Tensor of unknown shape. \"\n"
     ]
    },
    {
     "name": "stdout",
     "output_type": "stream",
     "text": [
      "Epoch 1/1\n",
      "90570/90570 [==============================] - 2s 24us/step - loss: 0.3155\n",
      "Epoch 1/1\n",
      "90570/90570 [==============================] - 2s 23us/step - loss: 0.1600\n",
      "Epoch 1/1\n",
      "90570/90570 [==============================] - 2s 23us/step - loss: 0.1445\n",
      "Epoch 1/1\n",
      "90570/90570 [==============================] - 2s 27us/step - loss: 0.1384\n",
      "Epoch 1/1\n",
      "90570/90570 [==============================] - 2s 24us/step - loss: 0.1336\n",
      "Epoch 1/1\n",
      "90570/90570 [==============================] - 2s 22us/step - loss: 0.1309\n",
      "Epoch 1/1\n",
      "90570/90570 [==============================] - 2s 23us/step - loss: 0.1294\n",
      "Epoch 1/1\n",
      "90570/90570 [==============================] - 2s 23us/step - loss: 0.1288\n",
      "Epoch 1/1\n",
      "90570/90570 [==============================] - 2s 23us/step - loss: 0.1260\n",
      "Epoch 1/1\n",
      "90570/90570 [==============================] - 2s 23us/step - loss: 0.1257\n"
     ]
    }
   ],
   "source": [
    "triplet_model.compile(loss=identity_loss, optimizer=\"adam\")\n",
    "fake_y = np.ones_like(train_feedback.data)\n",
    "\n",
    "n_epochs = 10\n",
    "\n",
    "for i in range(n_epochs):\n",
    "    triplets = sample_triplets()\n",
    "    triplet_model.fit(triplets, fake_y, shuffle=True, batch_size=64, epochs=1)"
   ]
  },
  {
   "cell_type": "code",
   "execution_count": 136,
   "metadata": {},
   "outputs": [
    {
     "name": "stdout",
     "output_type": "stream",
     "text": [
      "Score: 0.9318768455075506\n",
      "Error: 0.0%\n"
     ]
    }
   ],
   "source": [
    "error, scores = model_scores(match_model)\n",
    "print('Score: '+ str(np.mean(scores)))\n",
    "print('Error: '+ str(round(error*1000)/10) + '%')"
   ]
  },
  {
   "cell_type": "markdown",
   "metadata": {},
   "source": [
    "## FM model"
   ]
  },
  {
   "cell_type": "code",
   "execution_count": 137,
   "metadata": {},
   "outputs": [],
   "source": [
    "def similarity(embeddings):\n",
    "    # similarities\n",
    "    sim = []\n",
    "    for i in range(len(embeddings)-1):\n",
    "        emb_1 = embeddings[i]\n",
    "        for emb_2 in embeddings[i:]:\n",
    "            sim.append(Dot(axes=1, normalize=True)([emb_1, emb_2]))\n",
    "    return sim"
   ]
  },
  {
   "cell_type": "code",
   "execution_count": 138,
   "metadata": {},
   "outputs": [],
   "source": [
    "# Network\n",
    "\n",
    "def build_models(n_users, n_items, latent_dim=64):\n",
    "    \n",
    "    # inputs\n",
    "    user_input = Input((1,), name='user_input')\n",
    "    item_input = Input((1,), name='item_input')\n",
    "    \n",
    "    # bias (w0)\n",
    "    w0_layer = Dense(1, name='bias_w0')\n",
    "    \n",
    "    # coefficients (W)\n",
    "    user_coef = Embedding(n_users, 1, name='user_W')\n",
    "    item_coef = Embedding(n_items, 1, name=\"item_W\")\n",
    "    # embeddings (layers)\n",
    "    user_layer = Embedding(n_users, latent_dim, name='user_embedding')\n",
    "    item_layer = Embedding(n_items, latent_dim, name=\"item_embedding\")\n",
    "\n",
    "    # get coefficients\n",
    "    user_W = Flatten()(user_coef(user_input))\n",
    "    item_W = Flatten()(item_coef(item_input))\n",
    "    # get embeddings\n",
    "    user_emb = Flatten()(user_layer(user_input))\n",
    "    item_emb = Flatten()(item_layer(item_input))\n",
    "    \n",
    "    # lineraity\n",
    "    lin = Add()([user_W, item_W])\n",
    "    \n",
    "    # weighted similarities with bias\n",
    "    sim = Lambda(similarity,name='pos_prediction')([user_emb, item_emb]) #output_shape=(1,)\n",
    "    \n",
    "    # making the similarities go trough a perceptron, enables us to give a different importance \n",
    "    # to each similarity (some might be more important than others) and to add a bias\n",
    "    sim = Concatenate(axis=1)(sim)\n",
    "    sim = w0_layer(sim)\n",
    "    \n",
    "    # prediction \n",
    "    pred = Add()([lin, sim])\n",
    "    \n",
    "    # FM model used to rank items\n",
    "    FM_model = Model(name='FM',inputs=[user_input, item_input],\n",
    "                          outputs=pred)\n",
    "    \n",
    "    return FM_model"
   ]
  },
  {
   "cell_type": "code",
   "execution_count": 139,
   "metadata": {},
   "outputs": [],
   "source": [
    "FM_model = build_models(n_users, n_items)"
   ]
  },
  {
   "cell_type": "code",
   "execution_count": 140,
   "metadata": {},
   "outputs": [],
   "source": [
    "def triplet_to_tuple(triplets):\n",
    "    tuples = []\n",
    "    for u, p, n in np.array(triplets).T:\n",
    "        tuples.append(np.array([u,p]))\n",
    "        tuples.append(np.array([u,n]))\n",
    "    return list(np.array(tuples).T)"
   ]
  },
  {
   "cell_type": "code",
   "execution_count": 141,
   "metadata": {},
   "outputs": [
    {
     "name": "stderr",
     "output_type": "stream",
     "text": [
      "/opt/anaconda3/lib/python3.7/site-packages/tensorflow_core/python/framework/indexed_slices.py:424: UserWarning: Converting sparse IndexedSlices to a dense Tensor of unknown shape. This may consume a large amount of memory.\n",
      "  \"Converting sparse IndexedSlices to a dense Tensor of unknown shape. \"\n"
     ]
    },
    {
     "name": "stdout",
     "output_type": "stream",
     "text": [
      "Epoch 1/1\n",
      "181140/181140 [==============================] - 5s 26us/step - loss: 0.6676\n",
      "Epoch 1/1\n",
      "181140/181140 [==============================] - 5s 25us/step - loss: 0.4499\n",
      "Epoch 1/1\n",
      "181140/181140 [==============================] - 4s 24us/step - loss: 0.4075\n",
      "Epoch 1/1\n",
      "181140/181140 [==============================] - 5s 25us/step - loss: 0.3721\n",
      "Epoch 1/1\n",
      "181140/181140 [==============================] - 5s 25us/step - loss: 0.3451\n",
      "Epoch 1/1\n",
      "181140/181140 [==============================] - 5s 26us/step - loss: 0.3210\n",
      "Epoch 1/1\n",
      "181140/181140 [==============================] - 4s 25us/step - loss: 0.3031\n",
      "Epoch 1/1\n",
      "181140/181140 [==============================] - 4s 24us/step - loss: 0.2874\n",
      "Epoch 1/1\n",
      "181140/181140 [==============================] - 4s 24us/step - loss: 0.2744\n",
      "Epoch 1/1\n",
      "181140/181140 [==============================] - 4s 24us/step - loss: 0.2624\n"
     ]
    }
   ],
   "source": [
    "FM_model.compile(loss='hinge', optimizer=\"adam\")\n",
    "n_epochs = 10\n",
    "\n",
    "for i in range(n_epochs):\n",
    "    triplets = sample_triplets()\n",
    "    tuples = triplet_to_tuple(triplets)\n",
    "    ratings = np.array([1,0]*len(triplets[0]))\n",
    "\n",
    "    FM_model.fit(tuples, ratings, shuffle=True, batch_size=64, epochs=1)"
   ]
  },
  {
   "cell_type": "code",
   "execution_count": 142,
   "metadata": {},
   "outputs": [
    {
     "name": "stdout",
     "output_type": "stream",
     "text": [
      "Score: 0.9199850873899553\n",
      "Error: 0.0%\n"
     ]
    }
   ],
   "source": [
    "error, scores = model_scores(FM_model)\n",
    "print('Score: '+ str(np.mean(scores)))\n",
    "print('Error: '+ str(round(error*1000)/10) + '%')"
   ]
  },
  {
   "cell_type": "markdown",
   "metadata": {},
   "source": [
    "After training, we get a way better score than earlier."
   ]
  },
  {
   "cell_type": "markdown",
   "metadata": {},
   "source": [
    "## FM model with augmented data"
   ]
  },
  {
   "cell_type": "code",
   "execution_count": 169,
   "metadata": {},
   "outputs": [],
   "source": [
    "def new_similarity(embeddings):\n",
    "    '''for the user, we only compute its similarity with the item'''\n",
    "    # similarities\n",
    "    #sim = [Dot(axes=1)([embeddings[0], embeddings[1]])]\n",
    "    sim = []\n",
    "    for i in range(len(embeddings)):\n",
    "        emb_1 = embeddings[i]\n",
    "        for emb_2 in embeddings[i:]:\n",
    "            sim.append(Dot(axes=1)([emb_1, emb_2]))\n",
    "    return sim"
   ]
  },
  {
   "cell_type": "code",
   "execution_count": 170,
   "metadata": {},
   "outputs": [],
   "source": [
    "def build_aug_models(n_users, n_items, n_occupations, n_genres, latent_dim=64):\n",
    "    \n",
    "    # inputs\n",
    "    user_input = Input((1,), name='user_input')\n",
    "    item_input = Input((1,), name='item_input')\n",
    "    age_input = Input((1,), name='age_input')\n",
    "    occ_input = Input((1,), name='occ_input')\n",
    "    sexe_input = Input((1,), name='sexe_input')\n",
    "    genre_input = Input((1,), name='genre_input')\n",
    "    #genre_inputs = Input((n_genres,))\n",
    "\n",
    "    # bias (w0)\n",
    "    w0_layer = Dense(1, use_bias=True, name='bias_w0')\n",
    "    \n",
    "    # coefficients (W)\n",
    "    user_coef = Embedding(n_users, 1, name='user_W')\n",
    "    item_coef = Embedding(n_items, 1, name=\"item_W\")\n",
    "    age_coef = Embedding(3, 1, name=\"age_W\")\n",
    "    occ_coef = Embedding(n_occupations, 1, name=\"occupation_W\")\n",
    "    sexe_coef = Embedding(2, 1, name=\"sexe_W\")\n",
    "    genre_coef = Embedding(n_genres, 1, name=\"genre_W\")\n",
    "    #genre_coefs = Dense(1, use_bias=False, name=\"genre_W\")\n",
    "\n",
    "    # embeddings (layers)\n",
    "    user_layer = Embedding(n_users, latent_dim, name='user_embedding')\n",
    "    item_layer = Embedding(n_items, latent_dim, name=\"item_embedding\")\n",
    "    age_layer = Embedding(3, latent_dim, name=\"age_embedding\")\n",
    "    occ_layer = Embedding(n_occupations, latent_dim, name=\"occ_embedding\")\n",
    "    sexe_layer = Embedding(2, latent_dim, name=\"sexe_embedding\")\n",
    "    genre_layer = Embedding(n_genres, latent_dim, name=\"genre_embedding\")\n",
    "    #genre_layer = Dense(latent_dim, use_bias=False, name=\"genre_embedding\")\n",
    "    \n",
    "    # get coefficients\n",
    "    user_W = Flatten()(user_coef(user_input))\n",
    "    item_W = Flatten()(item_coef(item_input))\n",
    "    age_W = Flatten()(age_coef(age_input))\n",
    "    occ_W = Flatten()(occ_coef(occ_input))\n",
    "    sexe_W = Flatten()(sexe_coef(sexe_input))\n",
    "    genre_W = Flatten()(genre_coef(genre_input))\n",
    "    #genre_W = genre_coefs(genre_inputs)\n",
    "    \n",
    "    W = [user_W,item_W,age_W,occ_W,sexe_W,genre_W]\n",
    "    \n",
    "    # get embeddings\n",
    "    user_embedding = Flatten()(user_layer(user_input))\n",
    "    item_embedding = Flatten()(item_layer(item_input))\n",
    "    age_embedding = Flatten()(age_layer(age_input))\n",
    "    occ_embedding = Flatten()(occ_layer(occ_input))\n",
    "    sexe_embedding = Flatten()(sexe_layer(sexe_input))\n",
    "    genre_embedding = Flatten()(genre_layer(genre_input))\n",
    "    #genre_embedding = genre_layer(genre_inputs)\n",
    "    \n",
    "    embeddings = [user_embedding,item_embedding,age_embedding,occ_embedding,sexe_embedding,genre_embedding]\n",
    "    \n",
    "    # lineraity\n",
    "    lin = Add()(W)\n",
    "    \n",
    "    # similarity with bias\n",
    "    sim = Lambda(new_similarity,name='similarities')(embeddings)\n",
    "    \n",
    "    # FM\n",
    "    #sim = Add()(sim)\n",
    "    #C-FM\n",
    "    sim = Concatenate(axis=1)(sim)\n",
    "    sim = w0_layer(sim)\n",
    "    \n",
    "    # prediction \n",
    "    pred = Add()([lin, sim])\n",
    "    \n",
    "    \n",
    "    # match model, used to rank items\n",
    "    FM_model = Model(name='FM_aug',inputs=[user_input,item_input,          # user, item\n",
    "                                       age_input,occ_input,sexe_input, # user features\n",
    "                                       genre_input],                   # item features\n",
    "                          outputs=pred)\n",
    "    \n",
    "    return FM_model"
   ]
  },
  {
   "cell_type": "code",
   "execution_count": 171,
   "metadata": {},
   "outputs": [],
   "source": [
    "FM_aug_model = build_aug_models(n_users, n_items, n_occupations, n_genres)"
   ]
  },
  {
   "cell_type": "code",
   "execution_count": 172,
   "metadata": {},
   "outputs": [
    {
     "name": "stdout",
     "output_type": "stream",
     "text": [
      "Model: \"FM_aug\"\n",
      "__________________________________________________________________________________________________\n",
      "Layer (type)                    Output Shape         Param #     Connected to                     \n",
      "==================================================================================================\n",
      "user_input (InputLayer)         (None, 1)            0                                            \n",
      "__________________________________________________________________________________________________\n",
      "item_input (InputLayer)         (None, 1)            0                                            \n",
      "__________________________________________________________________________________________________\n",
      "age_input (InputLayer)          (None, 1)            0                                            \n",
      "__________________________________________________________________________________________________\n",
      "occ_input (InputLayer)          (None, 1)            0                                            \n",
      "__________________________________________________________________________________________________\n",
      "sexe_input (InputLayer)         (None, 1)            0                                            \n",
      "__________________________________________________________________________________________________\n",
      "genre_input (InputLayer)        (None, 1)            0                                            \n",
      "__________________________________________________________________________________________________\n",
      "user_embedding (Embedding)      (None, 1, 64)        60352       user_input[0][0]                 \n",
      "__________________________________________________________________________________________________\n",
      "item_embedding (Embedding)      (None, 1, 64)        107648      item_input[0][0]                 \n",
      "__________________________________________________________________________________________________\n",
      "age_embedding (Embedding)       (None, 1, 64)        192         age_input[0][0]                  \n",
      "__________________________________________________________________________________________________\n",
      "occ_embedding (Embedding)       (None, 1, 64)        1344        occ_input[0][0]                  \n",
      "__________________________________________________________________________________________________\n",
      "sexe_embedding (Embedding)      (None, 1, 64)        128         sexe_input[0][0]                 \n",
      "__________________________________________________________________________________________________\n",
      "genre_embedding (Embedding)     (None, 1, 64)        1216        genre_input[0][0]                \n",
      "__________________________________________________________________________________________________\n",
      "flatten_128 (Flatten)           (None, 64)           0           user_embedding[0][0]             \n",
      "__________________________________________________________________________________________________\n",
      "flatten_129 (Flatten)           (None, 64)           0           item_embedding[0][0]             \n",
      "__________________________________________________________________________________________________\n",
      "flatten_130 (Flatten)           (None, 64)           0           age_embedding[0][0]              \n",
      "__________________________________________________________________________________________________\n",
      "flatten_131 (Flatten)           (None, 64)           0           occ_embedding[0][0]              \n",
      "__________________________________________________________________________________________________\n",
      "flatten_132 (Flatten)           (None, 64)           0           sexe_embedding[0][0]             \n",
      "__________________________________________________________________________________________________\n",
      "flatten_133 (Flatten)           (None, 64)           0           genre_embedding[0][0]            \n",
      "__________________________________________________________________________________________________\n",
      "user_W (Embedding)              (None, 1, 1)         943         user_input[0][0]                 \n",
      "__________________________________________________________________________________________________\n",
      "item_W (Embedding)              (None, 1, 1)         1682        item_input[0][0]                 \n",
      "__________________________________________________________________________________________________\n",
      "age_W (Embedding)               (None, 1, 1)         3           age_input[0][0]                  \n",
      "__________________________________________________________________________________________________\n",
      "occupation_W (Embedding)        (None, 1, 1)         21          occ_input[0][0]                  \n",
      "__________________________________________________________________________________________________\n",
      "sexe_W (Embedding)              (None, 1, 1)         2           sexe_input[0][0]                 \n",
      "__________________________________________________________________________________________________\n",
      "genre_W (Embedding)             (None, 1, 1)         19          genre_input[0][0]                \n",
      "__________________________________________________________________________________________________\n",
      "similarities (Lambda)           [(None, 1), (None, 1 0           flatten_128[0][0]                \n",
      "                                                                 flatten_129[0][0]                \n",
      "                                                                 flatten_130[0][0]                \n",
      "                                                                 flatten_131[0][0]                \n",
      "                                                                 flatten_132[0][0]                \n",
      "                                                                 flatten_133[0][0]                \n",
      "__________________________________________________________________________________________________\n",
      "flatten_122 (Flatten)           (None, 1)            0           user_W[0][0]                     \n",
      "__________________________________________________________________________________________________\n",
      "flatten_123 (Flatten)           (None, 1)            0           item_W[0][0]                     \n",
      "__________________________________________________________________________________________________\n",
      "flatten_124 (Flatten)           (None, 1)            0           age_W[0][0]                      \n",
      "__________________________________________________________________________________________________\n",
      "flatten_125 (Flatten)           (None, 1)            0           occupation_W[0][0]               \n",
      "__________________________________________________________________________________________________\n",
      "flatten_126 (Flatten)           (None, 1)            0           sexe_W[0][0]                     \n",
      "__________________________________________________________________________________________________\n",
      "flatten_127 (Flatten)           (None, 1)            0           genre_W[0][0]                    \n",
      "__________________________________________________________________________________________________\n",
      "concatenate_7 (Concatenate)     (None, 21)           0           similarities[0][0]               \n",
      "                                                                 similarities[0][1]               \n",
      "                                                                 similarities[0][2]               \n",
      "                                                                 similarities[0][3]               \n",
      "                                                                 similarities[0][4]               \n",
      "                                                                 similarities[0][5]               \n",
      "                                                                 similarities[0][6]               \n",
      "                                                                 similarities[0][7]               \n",
      "                                                                 similarities[0][8]               \n",
      "                                                                 similarities[0][9]               \n",
      "                                                                 similarities[0][10]              \n",
      "                                                                 similarities[0][11]              \n",
      "                                                                 similarities[0][12]              \n",
      "                                                                 similarities[0][13]              \n",
      "                                                                 similarities[0][14]              \n",
      "                                                                 similarities[0][15]              \n",
      "                                                                 similarities[0][16]              \n",
      "                                                                 similarities[0][17]              \n",
      "                                                                 similarities[0][18]              \n",
      "                                                                 similarities[0][19]              \n",
      "                                                                 similarities[0][20]              \n",
      "__________________________________________________________________________________________________\n",
      "add_22 (Add)                    (None, 1)            0           flatten_122[0][0]                \n",
      "                                                                 flatten_123[0][0]                \n",
      "                                                                 flatten_124[0][0]                \n",
      "                                                                 flatten_125[0][0]                \n",
      "                                                                 flatten_126[0][0]                \n",
      "                                                                 flatten_127[0][0]                \n",
      "__________________________________________________________________________________________________\n",
      "bias_w0 (Dense)                 (None, 1)            22          concatenate_7[0][0]              \n",
      "__________________________________________________________________________________________________\n",
      "add_23 (Add)                    (None, 1)            0           add_22[0][0]                     \n",
      "                                                                 bias_w0[0][0]                    \n",
      "==================================================================================================\n",
      "Total params: 173,572\n",
      "Trainable params: 173,572\n",
      "Non-trainable params: 0\n",
      "__________________________________________________________________________________________________\n",
      "None\n"
     ]
    }
   ],
   "source": [
    "print(FM_aug_model.summary())"
   ]
  },
  {
   "cell_type": "code",
   "execution_count": 173,
   "metadata": {},
   "outputs": [],
   "source": [
    "def add_user_features(user_inputs):\n",
    "    age_inputs = []\n",
    "    sexe_inputs = []\n",
    "    occ_inputs = []\n",
    "    for u in user_inputs:\n",
    "        age_inputs.append(users['age'].iloc[u-1])\n",
    "        sexe_inputs.append(users['sexe'].iloc[u-1])\n",
    "        occ_inputs.append(users['occupation'].iloc[u-1])\n",
    "    age_inputs = np.array(age_inputs)\n",
    "    sexe_inputs = np.array(sexe_inputs)\n",
    "    occ_inputs = np.array(occ_inputs)\n",
    "    return [age_inputs, occ_inputs, sexe_inputs]\n",
    "\n",
    "def add_item_features(item_inputs):\n",
    "    genre_inputs = []\n",
    "    for i in item_inputs:\n",
    "        genre_inputs.append(items['genres'].iloc[i-1])\n",
    "    genre_inputs = np.array(genre_inputs)\n",
    "    return [genre_inputs]"
   ]
  },
  {
   "cell_type": "code",
   "execution_count": 174,
   "metadata": {},
   "outputs": [
    {
     "name": "stderr",
     "output_type": "stream",
     "text": [
      "/opt/anaconda3/lib/python3.7/site-packages/tensorflow_core/python/framework/indexed_slices.py:424: UserWarning: Converting sparse IndexedSlices to a dense Tensor of unknown shape. This may consume a large amount of memory.\n",
      "  \"Converting sparse IndexedSlices to a dense Tensor of unknown shape. \"\n"
     ]
    },
    {
     "name": "stdout",
     "output_type": "stream",
     "text": [
      "Epoch 1/1\n",
      "181140/181140 [==============================] - 7s 38us/step - loss: 0.5813\n",
      "Epoch 1/1\n",
      "181140/181140 [==============================] - 6s 35us/step - loss: 0.5138\n",
      "Epoch 1/1\n",
      "181140/181140 [==============================] - 6s 35us/step - loss: 0.4979\n",
      "Epoch 1/1\n",
      "181140/181140 [==============================] - 6s 35us/step - loss: 0.4412\n",
      "Epoch 1/1\n",
      "181140/181140 [==============================] - 6s 35us/step - loss: 0.3926\n",
      "Epoch 1/1\n",
      "181140/181140 [==============================] - 6s 35us/step - loss: 0.3581\n",
      "Epoch 1/1\n",
      "181140/181140 [==============================] - 6s 35us/step - loss: 0.3285\n",
      "Epoch 1/1\n",
      "181140/181140 [==============================] - 6s 35us/step - loss: 0.3049\n",
      "Epoch 1/1\n",
      "181140/181140 [==============================] - 7s 36us/step - loss: 0.2874\n",
      "Epoch 1/1\n",
      "181140/181140 [==============================] - 6s 35us/step - loss: 0.2724\n"
     ]
    }
   ],
   "source": [
    "FM_aug_model.compile(loss='hinge', optimizer=\"adam\")\n",
    "n_epochs = 10\n",
    "\n",
    "for i in range(n_epochs):\n",
    "    triplets = sample_triplets()\n",
    "    in_users, in_items = triplet_to_tuple(triplets)\n",
    "    \n",
    "    # augmentation\n",
    "    inputs = [in_users, in_items]\n",
    "    inputs_aug = inputs\n",
    "    inputs_aug += add_user_features(in_users)\n",
    "    inputs_aug += add_item_features(in_items)\n",
    "    \n",
    "    ratings = np.array([1,0]*len(triplets[0]))\n",
    "\n",
    "    FM_aug_model.fit(inputs_aug, ratings, shuffle=True, batch_size=64, epochs=1)"
   ]
  },
  {
   "cell_type": "code",
   "execution_count": 175,
   "metadata": {},
   "outputs": [],
   "source": [
    "def model_aug_scores(FM_aug_model):\n",
    "    \"\"\"Compute the ROC AUC score of each user\"\"\"\n",
    "    scores = []\n",
    "    error = 0\n",
    "    for i in range(n_users):\n",
    "        # items not in the training set\n",
    "        items_to_rank = np.setdiff1d(np.arange(n_items), train_feedback[i].indices)\n",
    "        \n",
    "        # items in the test set = 1, others = 0\n",
    "        expected = np.in1d(items_to_rank, test_feedback[i].indices)\n",
    "        \n",
    "        # model prediction\n",
    "        repeated_user = np.repeat(i, repeats=len(items_to_rank))\n",
    "        \n",
    "        inputs = [repeated_user, items_to_rank]\n",
    "        inputs += add_user_features(repeated_user)\n",
    "        inputs += add_item_features(items_to_rank)\n",
    "        \n",
    "        predicted = FM_aug_model.predict(inputs, batch_size=4096).ravel()\n",
    "        \n",
    "        # ROC AUC\n",
    "        try:\n",
    "            scores.append(roc_auc_score(expected, predicted))\n",
    "        except:\n",
    "            error += 1\n",
    "            \n",
    "    error = error/n_users\n",
    "    return error, scores"
   ]
  },
  {
   "cell_type": "code",
   "execution_count": 176,
   "metadata": {},
   "outputs": [
    {
     "name": "stdout",
     "output_type": "stream",
     "text": [
      "Score: 0.9136302276820775\n",
      "Error: 0.0%\n"
     ]
    }
   ],
   "source": [
    "error, scores = model_aug_scores(FM_aug_model)\n",
    "print('Score: '+ str(np.mean(scores)))\n",
    "print('Error: '+ str(round(error*1000)/10) + '%')"
   ]
  },
  {
   "cell_type": "code",
   "execution_count": 177,
   "metadata": {},
   "outputs": [],
   "source": [
    "# C-FM : 0.918\n",
    "# FM : 0.928"
   ]
  },
  {
   "cell_type": "markdown",
   "metadata": {},
   "source": [
    "## Content - based"
   ]
  },
  {
   "cell_type": "code",
   "execution_count": 52,
   "metadata": {},
   "outputs": [],
   "source": [
    "scores = []\n",
    "error = 0\n",
    "for i in range(n_users):\n",
    "    # items not in the training set\n",
    "    items_to_rank = np.setdiff1d(np.arange(n_items), train_feedback[i].indices)\n",
    "\n",
    "    # items in the test set = 1, others = 0\n",
    "    expected = np.in1d(items_to_rank, test_feedback[i].indices)\n",
    "\n",
    "    # model prediction\n",
    "    repeated_user = np.repeat(i, repeats=len(items_to_rank))\n",
    "\n",
    "    inputs = [repeated_user, items_to_rank]\n",
    "    inputs += add_user_features(repeated_user)\n",
    "    inputs += add_item_features(items_to_rank)\n",
    "\n",
    "    predicted = FM_aug_model.predict(inputs, batch_size=4096).ravel()\n",
    "\n",
    "    # ROC AUC\n",
    "    try:\n",
    "        scores.append(roc_auc_score(expected, predicted))\n",
    "    except:\n",
    "        error += 1\n",
    "\n",
    "error = error/n_users"
   ]
  },
  {
   "cell_type": "markdown",
   "metadata": {},
   "source": [
    "## Cold Start Problem (csp)"
   ]
  },
  {
   "cell_type": "markdown",
   "metadata": {},
   "source": [
    "Remove the last user number 943."
   ]
  },
  {
   "cell_type": "code",
   "execution_count": 199,
   "metadata": {},
   "outputs": [],
   "source": [
    "triplet_model_csp, match_model_csp = build_triplet_models(n_users, n_items)\n",
    "FM_model_csp = build_models(n_users, n_items)\n",
    "FM_aug_model_csp = build_aug_models(n_users, n_items, n_occupations, n_genres)"
   ]
  },
  {
   "cell_type": "code",
   "execution_count": 200,
   "metadata": {},
   "outputs": [
    {
     "name": "stdout",
     "output_type": "stream",
     "text": [
      "Epoch 1/1\n",
      "89742/89742 [==============================] - 2s 22us/step - loss: 0.1241\n"
     ]
    },
    {
     "name": "stderr",
     "output_type": "stream",
     "text": [
      "/opt/anaconda3/lib/python3.7/site-packages/tensorflow_core/python/framework/indexed_slices.py:424: UserWarning: Converting sparse IndexedSlices to a dense Tensor of unknown shape. This may consume a large amount of memory.\n",
      "  \"Converting sparse IndexedSlices to a dense Tensor of unknown shape. \"\n"
     ]
    },
    {
     "name": "stdout",
     "output_type": "stream",
     "text": [
      "Epoch 1/1\n",
      "179484/179484 [==============================] - 5s 25us/step - loss: 0.6575\n"
     ]
    },
    {
     "name": "stderr",
     "output_type": "stream",
     "text": [
      "/opt/anaconda3/lib/python3.7/site-packages/tensorflow_core/python/framework/indexed_slices.py:424: UserWarning: Converting sparse IndexedSlices to a dense Tensor of unknown shape. This may consume a large amount of memory.\n",
      "  \"Converting sparse IndexedSlices to a dense Tensor of unknown shape. \"\n"
     ]
    },
    {
     "name": "stdout",
     "output_type": "stream",
     "text": [
      "Epoch 1/1\n",
      "179484/179484 [==============================] - 7s 39us/step - loss: 0.5706\n",
      "Epoch 1/1\n",
      "89742/89742 [==============================] - 2s 23us/step - loss: 0.1235\n",
      "Epoch 1/1\n",
      "179484/179484 [==============================] - 5s 28us/step - loss: 0.4569\n",
      "Epoch 1/1\n",
      "179484/179484 [==============================] - 7s 38us/step - loss: 0.5127\n",
      "Epoch 1/1\n",
      "89742/89742 [==============================] - 2s 23us/step - loss: 0.1234\n",
      "Epoch 1/1\n",
      "179484/179484 [==============================] - 4s 25us/step - loss: 0.4167\n",
      "Epoch 1/1\n",
      "179484/179484 [==============================] - 7s 38us/step - loss: 0.5022\n",
      "Epoch 1/1\n",
      "89742/89742 [==============================] - 2s 24us/step - loss: 0.1214\n",
      "Epoch 1/1\n",
      "179484/179484 [==============================] - 4s 25us/step - loss: 0.3838\n",
      "Epoch 1/1\n",
      "179484/179484 [==============================] - 6s 36us/step - loss: 0.4555\n",
      "Epoch 1/1\n",
      "89742/89742 [==============================] - 2s 23us/step - loss: 0.1208\n",
      "Epoch 1/1\n",
      "179484/179484 [==============================] - 5s 25us/step - loss: 0.3541\n",
      "Epoch 1/1\n",
      "179484/179484 [==============================] - 6s 36us/step - loss: 0.4089\n"
     ]
    }
   ],
   "source": [
    "triplet_model_csp.compile(loss=identity_loss, optimizer=\"adam\")\n",
    "FM_model_csp.compile(loss='hinge', optimizer=\"adam\")\n",
    "FM_aug_model_csp.compile(loss='hinge', optimizer=\"adam\")\n",
    "\n",
    "n_epochs = 5\n",
    "\n",
    "for i in range(n_epochs):\n",
    "    triplets = sample_triplets()\n",
    "    \n",
    "    for k in range(933,943):\n",
    "        # remove user number k from the training set\n",
    "        ind_k = np.where(triplets[0] == k)[0]\n",
    "        triplets = np.array(triplets).T\n",
    "        triplets = np.delete(triplets, ind_k, 0)\n",
    "        triplets = list(triplets.T)\n",
    "    \n",
    "    in_users, in_items = triplet_to_tuple(triplets)\n",
    "    \n",
    "    # input with augmentation\n",
    "    inputs = [in_users, in_items]\n",
    "    inputs_aug = inputs + add_user_features(in_users)\n",
    "    inputs_aug += add_item_features(in_items)\n",
    "    \n",
    "    # ratings\n",
    "    ratings = np.array([1,0]*len(triplets[0]))\n",
    "    fake_y = np.ones(len(triplets[0]))\n",
    "    \n",
    "    # fit models\n",
    "    triplet_model.fit(triplets, fake_y, shuffle=True, batch_size=64, epochs=1)\n",
    "    FM_model_csp.fit(inputs, ratings, shuffle=True, batch_size=64, epochs=1)\n",
    "    FM_aug_model_csp.fit(inputs_aug, ratings, shuffle=True, batch_size=64, epochs=1)"
   ]
  },
  {
   "cell_type": "code",
   "execution_count": 201,
   "metadata": {},
   "outputs": [],
   "source": [
    "scores_triplets = []\n",
    "scores = []\n",
    "scores_aug = []\n",
    "\n",
    "for i in range(933,943):\n",
    "    # items not in the training set\n",
    "    items_to_rank = np.setdiff1d(np.arange(n_items), train_feedback[i].indices)\n",
    "      \n",
    "    # items in the test set = 1, others = 0\n",
    "    expected = np.in1d(items_to_rank, test_feedback[i].indices)\n",
    "        \n",
    "    # models prediction\n",
    "    repeated_user = np.repeat(i, repeats=len(items_to_rank))        \n",
    "    inputs = [repeated_user, items_to_rank]\n",
    "    \n",
    "    inputs_aug = inputs + add_user_features(repeated_user)\n",
    "    inputs_aug += add_item_features(items_to_rank)\n",
    "\n",
    "    \n",
    "    predicted_triplets = match_model.predict([repeated_user, items_to_rank], batch_size=4096).ravel()\n",
    "    predicted = FM_model_csp.predict(inputs, batch_size=4096).ravel()\n",
    "    predicted_aug = FM_aug_model_csp.predict(inputs_aug, batch_size=4096).ravel()\n",
    "        \n",
    "    # ROC AUC\n",
    "    scores_triplets.append(roc_auc_score(expected, predicted))\n",
    "    scores.append(roc_auc_score(expected, predicted))\n",
    "    scores_aug.append(roc_auc_score(expected, predicted_aug))"
   ]
  },
  {
   "cell_type": "code",
   "execution_count": 202,
   "metadata": {},
   "outputs": [
    {
     "name": "stdout",
     "output_type": "stream",
     "text": [
      "Score (MF_triplets): 0.6626956072512369\n",
      "Score (FM): 0.6626956072512369\n",
      "Score (FM_aug): 0.8591884838674522\n"
     ]
    }
   ],
   "source": [
    "print('Score (MF_triplets): '+ str(np.mean(scores_triplets)))\n",
    "print('Score (FM): '+ str(np.mean(scores)))\n",
    "print('Score (FM_aug): '+ str(np.mean(scores_aug)))"
   ]
  },
  {
   "cell_type": "markdown",
   "metadata": {},
   "source": [
    "We can notice that the score of the FM model without augmentation is close to that of the baseline. Indeed, even if the embedding of the user 942 has not been optimize during the training, the embeddings of the movies have been.\n",
    "\n",
    "With the augmentation, we can see that the score is way better. Thus, it is clear that FMs with augmentation help solve the **cold start problem**."
   ]
  },
  {
   "cell_type": "markdown",
   "metadata": {},
   "source": [
    "## Data visualization"
   ]
  },
  {
   "cell_type": "markdown",
   "metadata": {},
   "source": [
    "In this section, we are going to look at the importance of each features and the similarities between them."
   ]
  },
  {
   "cell_type": "markdown",
   "metadata": {},
   "source": [
    "#### 1.  Similarities and features importances"
   ]
  },
  {
   "cell_type": "code",
   "execution_count": 188,
   "metadata": {},
   "outputs": [],
   "source": [
    "# weights\n",
    "sim_W = FM_aug_model.layers[-2].get_weights()[0].ravel()\n",
    "user_W = FM_aug_model.layers[18].get_weights()[0].ravel()\n",
    "item_W = FM_aug_model.layers[19].get_weights()[0].ravel()\n",
    "age_W = FM_aug_model.layers[20].get_weights()[0].ravel()\n",
    "occ_W = FM_aug_model.layers[21].get_weights()[0].ravel()\n",
    "sexe_W = FM_aug_model.layers[22].get_weights()[0].ravel()\n",
    "genre_W = FM_aug_model.layers[23].get_weights()[0].ravel()\n",
    "\n",
    "# names\n",
    "SimNames = ['user & user','user & item', 'user & age', 'user & occ', 'user & sexe', 'user & genre',\n",
    "                          'item & item','item & age', 'item & occ', 'item & sexe', 'item & genre',\n",
    "                                        'age & age', 'age & occ', 'age & sexe','age & genre',\n",
    "                                                     'occ & occ', 'occ & sexe','occ & genre',\n",
    "                                                                  'sexe & sexe','sexe & genre',\n",
    "                                                                                'genre & genre']\n",
    "sim_names = np.array(SimNames)\n",
    "genre_names = np.array(['unknown','Action','Adventure','Animation',\"Children's\",'Comedy','Crime','Documentary','Drama',\n",
    "               'Fantasy','Film-Noir','Horror','Musical','Mystery','Romance','Sci-Fi','Thriller','War','Western'])"
   ]
  },
  {
   "cell_type": "code",
   "execution_count": 190,
   "metadata": {},
   "outputs": [],
   "source": [
    "#print(FM_aug_model.summary())"
   ]
  },
  {
   "cell_type": "code",
   "execution_count": 191,
   "metadata": {},
   "outputs": [],
   "source": [
    "def feature_importance(feature, categories, weights):\n",
    "    tuple_ = list(zip(categories,weights))\n",
    "    tuple_.sort(key=lambda x:x[1], reverse=True)\n",
    "\n",
    "    df_tuple = np.array(tuple_)\n",
    "    df_tuple = pd.DataFrame(df_tuple, columns=[feature,'importance'])\n",
    "    return df_tuple"
   ]
  },
  {
   "cell_type": "code",
   "execution_count": 196,
   "metadata": {},
   "outputs": [],
   "source": [
    "# df_feature\n",
    "df_user = feature_importance('users', sim_names, abs(sim_W))\n",
    "\n",
    "df_sim = feature_importance('interactions', sim_names, abs(sim_W))\n",
    "df_occ = feature_importance('occupations', occupations.ravel(), abs(occ_W))\n",
    "df_age = feature_importance('ages', ['young','middle','old'], abs(age_W))\n",
    "df_sexe = feature_importance('sexes', ['F','M'], abs(sexe_W))\n",
    "df_genre = feature_importance('genres', genre_names, abs(genre_W))"
   ]
  },
  {
   "cell_type": "code",
   "execution_count": 198,
   "metadata": {},
   "outputs": [
    {
     "data": {
      "text/html": [
       "<table style=\"display:inline\" border=\"1\" class=\"dataframe\">\n",
       "  <thead>\n",
       "    <tr style=\"text-align: right;\">\n",
       "      <th></th>\n",
       "      <th>interactions</th>\n",
       "      <th>importance</th>\n",
       "    </tr>\n",
       "  </thead>\n",
       "  <tbody>\n",
       "    <tr>\n",
       "      <th>0</th>\n",
       "      <td>user &amp; item</td>\n",
       "      <td>4.2941265</td>\n",
       "    </tr>\n",
       "    <tr>\n",
       "      <th>1</th>\n",
       "      <td>item &amp; occ</td>\n",
       "      <td>0.926445</td>\n",
       "    </tr>\n",
       "    <tr>\n",
       "      <th>2</th>\n",
       "      <td>item &amp; sexe</td>\n",
       "      <td>0.9145793</td>\n",
       "    </tr>\n",
       "    <tr>\n",
       "      <th>3</th>\n",
       "      <td>user &amp; age</td>\n",
       "      <td>0.65679556</td>\n",
       "    </tr>\n",
       "    <tr>\n",
       "      <th>4</th>\n",
       "      <td>item &amp; age</td>\n",
       "      <td>0.5275714</td>\n",
       "    </tr>\n",
       "    <tr>\n",
       "      <th>5</th>\n",
       "      <td>user &amp; genre</td>\n",
       "      <td>0.4977657</td>\n",
       "    </tr>\n",
       "    <tr>\n",
       "      <th>6</th>\n",
       "      <td>user &amp; user</td>\n",
       "      <td>0.303802</td>\n",
       "    </tr>\n",
       "    <tr>\n",
       "      <th>7</th>\n",
       "      <td>item &amp; genre</td>\n",
       "      <td>0.2746588</td>\n",
       "    </tr>\n",
       "    <tr>\n",
       "      <th>8</th>\n",
       "      <td>sexe &amp; sexe</td>\n",
       "      <td>0.17826618</td>\n",
       "    </tr>\n",
       "    <tr>\n",
       "      <th>9</th>\n",
       "      <td>genre &amp; genre</td>\n",
       "      <td>0.15940417</td>\n",
       "    </tr>\n",
       "    <tr>\n",
       "      <th>10</th>\n",
       "      <td>occ &amp; genre</td>\n",
       "      <td>0.13942231</td>\n",
       "    </tr>\n",
       "    <tr>\n",
       "      <th>11</th>\n",
       "      <td>age &amp; occ</td>\n",
       "      <td>0.08458573</td>\n",
       "    </tr>\n",
       "    <tr>\n",
       "      <th>12</th>\n",
       "      <td>user &amp; sexe</td>\n",
       "      <td>0.061583787</td>\n",
       "    </tr>\n",
       "    <tr>\n",
       "      <th>13</th>\n",
       "      <td>age &amp; sexe</td>\n",
       "      <td>0.059431463</td>\n",
       "    </tr>\n",
       "    <tr>\n",
       "      <th>14</th>\n",
       "      <td>occ &amp; sexe</td>\n",
       "      <td>0.051129796</td>\n",
       "    </tr>\n",
       "    <tr>\n",
       "      <th>15</th>\n",
       "      <td>age &amp; age</td>\n",
       "      <td>0.049376685</td>\n",
       "    </tr>\n",
       "    <tr>\n",
       "      <th>16</th>\n",
       "      <td>item &amp; item</td>\n",
       "      <td>0.042832725</td>\n",
       "    </tr>\n",
       "    <tr>\n",
       "      <th>17</th>\n",
       "      <td>occ &amp; occ</td>\n",
       "      <td>0.022352783</td>\n",
       "    </tr>\n",
       "    <tr>\n",
       "      <th>18</th>\n",
       "      <td>age &amp; genre</td>\n",
       "      <td>0.021002628</td>\n",
       "    </tr>\n",
       "    <tr>\n",
       "      <th>19</th>\n",
       "      <td>user &amp; occ</td>\n",
       "      <td>0.0055596186</td>\n",
       "    </tr>\n",
       "    <tr>\n",
       "      <th>20</th>\n",
       "      <td>sexe &amp; genre</td>\n",
       "      <td>0.00039291102</td>\n",
       "    </tr>\n",
       "  </tbody>\n",
       "</table style=\"display:inline\"><table style=\"display:inline\" border=\"1\" class=\"dataframe\">\n",
       "  <thead>\n",
       "    <tr style=\"text-align: right;\">\n",
       "      <th></th>\n",
       "      <th>occupations</th>\n",
       "      <th>importance</th>\n",
       "    </tr>\n",
       "  </thead>\n",
       "  <tbody>\n",
       "    <tr>\n",
       "      <th>0</th>\n",
       "      <td>artist</td>\n",
       "      <td>0.3094048</td>\n",
       "    </tr>\n",
       "    <tr>\n",
       "      <th>1</th>\n",
       "      <td>retired</td>\n",
       "      <td>0.30031577</td>\n",
       "    </tr>\n",
       "    <tr>\n",
       "      <th>2</th>\n",
       "      <td>healthcare</td>\n",
       "      <td>0.15070865</td>\n",
       "    </tr>\n",
       "    <tr>\n",
       "      <th>3</th>\n",
       "      <td>lawyer</td>\n",
       "      <td>0.13837801</td>\n",
       "    </tr>\n",
       "    <tr>\n",
       "      <th>4</th>\n",
       "      <td>scientist</td>\n",
       "      <td>0.09169728</td>\n",
       "    </tr>\n",
       "  </tbody>\n",
       "</table style=\"display:inline\"><table style=\"display:inline\" border=\"1\" class=\"dataframe\">\n",
       "  <thead>\n",
       "    <tr style=\"text-align: right;\">\n",
       "      <th></th>\n",
       "      <th>ages</th>\n",
       "      <th>importance</th>\n",
       "    </tr>\n",
       "  </thead>\n",
       "  <tbody>\n",
       "    <tr>\n",
       "      <th>0</th>\n",
       "      <td>young</td>\n",
       "      <td>0.08228972</td>\n",
       "    </tr>\n",
       "    <tr>\n",
       "      <th>1</th>\n",
       "      <td>old</td>\n",
       "      <td>0.06418085</td>\n",
       "    </tr>\n",
       "    <tr>\n",
       "      <th>2</th>\n",
       "      <td>middle</td>\n",
       "      <td>0.05169395</td>\n",
       "    </tr>\n",
       "  </tbody>\n",
       "</table style=\"display:inline\"><table style=\"display:inline\" border=\"1\" class=\"dataframe\">\n",
       "  <thead>\n",
       "    <tr style=\"text-align: right;\">\n",
       "      <th></th>\n",
       "      <th>sexes</th>\n",
       "      <th>importance</th>\n",
       "    </tr>\n",
       "  </thead>\n",
       "  <tbody>\n",
       "    <tr>\n",
       "      <th>0</th>\n",
       "      <td>M</td>\n",
       "      <td>0.099716805</td>\n",
       "    </tr>\n",
       "    <tr>\n",
       "      <th>1</th>\n",
       "      <td>F</td>\n",
       "      <td>0.07946936</td>\n",
       "    </tr>\n",
       "  </tbody>\n",
       "</table style=\"display:inline\"><table style=\"display:inline\" border=\"1\" class=\"dataframe\">\n",
       "  <thead>\n",
       "    <tr style=\"text-align: right;\">\n",
       "      <th></th>\n",
       "      <th>genres</th>\n",
       "      <th>importance</th>\n",
       "    </tr>\n",
       "  </thead>\n",
       "  <tbody>\n",
       "    <tr>\n",
       "      <th>0</th>\n",
       "      <td>War</td>\n",
       "      <td>0.30331275</td>\n",
       "    </tr>\n",
       "    <tr>\n",
       "      <th>1</th>\n",
       "      <td>Romance</td>\n",
       "      <td>0.23955555</td>\n",
       "    </tr>\n",
       "    <tr>\n",
       "      <th>2</th>\n",
       "      <td>unknown</td>\n",
       "      <td>0.19035192</td>\n",
       "    </tr>\n",
       "    <tr>\n",
       "      <th>3</th>\n",
       "      <td>Animation</td>\n",
       "      <td>0.16795841</td>\n",
       "    </tr>\n",
       "    <tr>\n",
       "      <th>4</th>\n",
       "      <td>Documentary</td>\n",
       "      <td>0.16546047</td>\n",
       "    </tr>\n",
       "  </tbody>\n",
       "</table style=\"display:inline\">"
      ]
     },
     "metadata": {},
     "output_type": "display_data"
    }
   ],
   "source": [
    "#display_side_by_side(df_sim.head(),df_occ.head(),df_age,df_sexe,df_genre.head())\n",
    "display_side_by_side(df_sim,\n",
    "                     df_occ.head(),\n",
    "                     df_age.head(),\n",
    "                     df_sexe.head(),\n",
    "                     df_genre.head())"
   ]
  },
  {
   "cell_type": "code",
   "execution_count": 104,
   "metadata": {},
   "outputs": [
    {
     "data": {
      "text/plain": [
       "(0.65535766, 0.11267146, 0.22014165, 0.24970117, 0.1663154)"
      ]
     },
     "execution_count": 104,
     "metadata": {},
     "output_type": "execute_result"
    }
   ],
   "source": [
    "np.mean(abs(sim_W)), np.mean(abs(occ_W)), np.mean(abs(age_W)), np.mean(abs(sexe_W)), np.mean(abs(genre_W))"
   ]
  },
  {
   "cell_type": "code",
   "execution_count": 105,
   "metadata": {},
   "outputs": [
    {
     "data": {
      "text/plain": [
       "0.19417142868041992"
      ]
     },
     "execution_count": 105,
     "metadata": {},
     "output_type": "execute_result"
    }
   ],
   "source": [
    "(np.mean(abs(occ_W))+np.mean(abs(age_W))+np.mean(abs(sexe_W)))/3"
   ]
  },
  {
   "cell_type": "markdown",
   "metadata": {},
   "source": [
    "These importances represent the degree to wich each similarity and each feature contributes to the recommendation. \n",
    "\n",
    "We can notice that the similarity between user & item is as supected the most important one. For the features, we can see that:\n",
    "- being an artist weights more importance on you preference for a movie than other occupations\n",
    "- being young influence your tastes much more than being middle or old\n",
    "- both sexes M and F have similar importance"
   ]
  },
  {
   "cell_type": "markdown",
   "metadata": {},
   "source": [
    "#### 2. Movies representation based on preferences"
   ]
  },
  {
   "cell_type": "code",
   "execution_count": 125,
   "metadata": {},
   "outputs": [],
   "source": [
    "# user | item | age | occ | sexe\n",
    "user_embedding = FM_aug_model.layers[6].get_weights()[0]\n",
    "item_embedding = FM_aug_model.layers[7].get_weights()[0]\n",
    "age_embedding = FM_aug_model.layers[8].get_weights()[0]\n",
    "occ_embedding = FM_aug_model.layers[9].get_weights()[0]\n",
    "sexe_embedding = FM_aug_model.layers[10].get_weights()[0]\n",
    "genre_embedding = FM_aug_model.layers[16].get_weights()[0]"
   ]
  },
  {
   "cell_type": "code",
   "execution_count": 126,
   "metadata": {},
   "outputs": [],
   "source": [
    "young, middle, old = age_embedding\n",
    "F,M = sexe_embedding"
   ]
  },
  {
   "cell_type": "markdown",
   "metadata": {},
   "source": [
    "Lets look at the following 20 movies:\n",
    " - 22: Taxi Driver (1976)\n",
    " - 55: Pulp Fiction (1994)\n",
    " - 186: Godfather: Part II, The (1974)\n",
    " - 187: Full Metal Jacket (1987)\n",
    " - 274: Sense and Sensibility (1995)\n",
    " - 287: Scream (1996)\n",
    " - 312: Titanic (1997)\n",
    " - 418: Mary Poppins (1964)\n",
    " - 450: Grease (1978)\n",
    " - 709: Better Off Dead... (1985)\n",
    " - 779: Dumb & Dumber (1994)\n",
    " - 921: Dead Man (1995)\n",
    " - 1062: Little Princess, A (1995)\n",
    " - 1115: Mark of Zorro, The (1940)\n",
    " - 1126: Truman Show, The (1998)\n",
    " - 1325: Boys (1996)\n",
    " - 1441: Scarlet Letter, The (1995)\n",
    " - 1504: Killer: A Journal of Murder (1995)\n",
    " - 1507: Babysitter, The (1995)\n",
    " - 1636: Girls Town (1996)"
   ]
  },
  {
   "cell_type": "code",
   "execution_count": 127,
   "metadata": {},
   "outputs": [],
   "source": [
    "ind_movies = [55,22,186,187,274,287,312,418,450,709,779,921,1062,\n",
    "              1115,1126,1325,1441,1504,1507,1636]"
   ]
  },
  {
   "cell_type": "code",
   "execution_count": 128,
   "metadata": {},
   "outputs": [],
   "source": [
    "x_item,y_item  = ([],[])\n",
    "x_item_1,y_item_1  = ([],[])\n",
    "\n",
    "for item in item_embedding[ind_movies]:\n",
    "    x_item.append(np.dot(item,M)-np.dot(item,F))\n",
    "    y_item.append(np.dot(item,-old)-np.dot(item,-middle))\n",
    "\n",
    "    x_item_1.append(np.dot(item,M))\n",
    "    y_item_1.append(np.dot(item,F))"
   ]
  },
  {
   "cell_type": "code",
   "execution_count": 129,
   "metadata": {},
   "outputs": [
    {
     "data": {
      "text/plain": [
       "<matplotlib.legend.Legend at 0x7f9b917e39d0>"
      ]
     },
     "execution_count": 129,
     "metadata": {},
     "output_type": "execute_result"
    },
    {
     "data": {
      "image/png": "[encoded data removed]",
      "text/plain": [
       "<Figure size 1440x720 with 1 Axes>"
      ]
     },
     "metadata": {
      "needs_background": "light"
     },
     "output_type": "display_data"
    }
   ],
   "source": [
    "plt.figure(figsize=(20,10))\n",
    "plt.title('Movies representation based on preferences')\n",
    "plt.scatter(x_item,y_item, c='b', label='items')\n",
    "\n",
    "for x,y,i in zip(x_item,y_item,ind_movies):\n",
    "    label = items['title'].iloc[i]\n",
    "    plt.annotate(label,(x,y), xytext=(x,y+0.01))\n",
    "\n",
    "plt.arrow(-1,0,2,0)\n",
    "plt.arrow(0,-1,0,2)\n",
    "plt.xlabel('<-- Geared towards F --•-- Geared towards M -->')\n",
    "plt.ylabel('<-- Geared towards young --•-- Geared towards old -->')\n",
    "plt.legend()"
   ]
  },
  {
   "cell_type": "markdown",
   "metadata": {},
   "source": [
    "This graph offers a recommendation of movies based on the users' sexe and age."
   ]
  },
  {
   "cell_type": "code",
   "execution_count": 130,
   "metadata": {},
   "outputs": [
    {
     "data": {
      "text/plain": [
       "<matplotlib.legend.Legend at 0x7f9b927075d0>"
      ]
     },
     "execution_count": 130,
     "metadata": {},
     "output_type": "execute_result"
    },
    {
     "data": {
      "image/png": "[encoded data removed]",
      "text/plain": [
       "<Figure size 1440x720 with 1 Axes>"
      ]
     },
     "metadata": {
      "needs_background": "light"
     },
     "output_type": "display_data"
    }
   ],
   "source": [
    "plt.figure(figsize=(20,10))\n",
    "plt.title('Movies representation based on preferences')\n",
    "plt.scatter(x_item_1,y_item_1, c='b', label='items')\n",
    "\n",
    "for x,y,i in zip(x_item_1,y_item_1,ind_movies):\n",
    "    label = items['title'].iloc[i]\n",
    "    plt.annotate(label,(x,y), xytext=(x,y+0.01))\n",
    "\n",
    "plt.arrow(-1,0,2,0)\n",
    "plt.arrow(0,-1,0,2)\n",
    "plt.arrow(-1,-1,2,2)\n",
    "plt.xlabel('<-- Geared towards F --•-- Geared towards M -->')\n",
    "plt.ylabel('<-- Geared towards young --•-- Geared towards old -->')\n",
    "plt.legend()"
   ]
  },
  {
   "cell_type": "markdown",
   "metadata": {},
   "source": [
    "#### 3. Recommender systems to get insights on our society"
   ]
  },
  {
   "cell_type": "markdown",
   "metadata": {},
   "source": [
    "Finally, we will see that users' taste for movies can provide interesting information on other aspects of our society (supposedly uncorelated)."
   ]
  },
  {
   "cell_type": "code",
   "execution_count": 131,
   "metadata": {},
   "outputs": [],
   "source": [
    "x_occ = []\n",
    "y_occ = []\n",
    "for occ in occ_embedding:\n",
    "    x_occ.append(np.dot(occ,-M)-np.dot(occ,-F))\n",
    "    y_occ.append(np.dot(occ,-old)-np.dot(occ,-young))"
   ]
  },
  {
   "cell_type": "code",
   "execution_count": 132,
   "metadata": {},
   "outputs": [
    {
     "data": {
      "text/plain": [
       "<matplotlib.legend.Legend at 0x7f9b927ffb90>"
      ]
     },
     "execution_count": 132,
     "metadata": {},
     "output_type": "execute_result"
    },
    {
     "data": {
      "image/png": "[encoded data removed]",
      "text/plain": [
       "<Figure size 1440x720 with 1 Axes>"
      ]
     },
     "metadata": {
      "needs_background": "light"
     },
     "output_type": "display_data"
    }
   ],
   "source": [
    "plt.figure(figsize=(20,10))\n",
    "plt.title('Position of a occupation related to preference')\n",
    "plt.scatter(x_occ,y_occ, c='g', label='occupations')\n",
    "i = 0\n",
    "for x,y in zip(x_occ,y_occ):\n",
    "    label = occupations[i,0]\n",
    "    i += 1\n",
    "    plt.annotate(label,(x,y), xytext=(x,y+0.01))\n",
    "\n",
    "plt.arrow(-1,0,2,0)\n",
    "plt.arrow(0,-1,0,2)\n",
    "plt.xlabel('<-- Geared towards F --•-- Geared towards M -->')\n",
    "plt.ylabel('<-- Geared towards young --•-- Geared towards old -->')\n",
    "plt.legend()"
   ]
  },
  {
   "cell_type": "markdown",
   "metadata": {},
   "source": [
    "### Use PCA to visualize categories in a 2D plane"
   ]
  },
  {
   "cell_type": "code",
   "execution_count": 133,
   "metadata": {},
   "outputs": [],
   "source": [
    "#from sklearn.metrics.pairwise import cosine_similarity\n",
    "from sklearn.decomposition import PCA"
   ]
  },
  {
   "cell_type": "code",
   "execution_count": 134,
   "metadata": {},
   "outputs": [],
   "source": [
    "A = np.dot(genre_embedding,genre_embedding.T)\n",
    "pca = PCA(2)\n",
    "# fit on data\n",
    "pca.fit(A)\n",
    "# access values and vectors\n",
    "x_occ,y_occ = pca.components_"
   ]
  },
  {
   "cell_type": "code",
   "execution_count": 140,
   "metadata": {},
   "outputs": [
    {
     "data": {
      "text/plain": [
       "<matplotlib.legend.Legend at 0x7f9b9390e250>"
      ]
     },
     "execution_count": 140,
     "metadata": {},
     "output_type": "execute_result"
    },
    {
     "data": {
      "image/png": "[encoded data removed]",
      "text/plain": [
       "<Figure size 1440x720 with 1 Axes>"
      ]
     },
     "metadata": {
      "needs_background": "light"
     },
     "output_type": "display_data"
    }
   ],
   "source": [
    "plt.figure(figsize=(20,10))\n",
    "plt.title('Position of a occupation related to preference')\n",
    "plt.scatter(x_occ,y_occ, c='g', label='occupations')\n",
    "i = 0\n",
    "for x,y in zip(x_occ,y_occ):\n",
    "    label = df_genre['genres'].iloc[i]\n",
    "    i += 1\n",
    "    plt.annotate(label,(x,y), xytext=(x,y+0.01))\n",
    "plt.legend()"
   ]
  },
  {
   "cell_type": "markdown",
   "metadata": {},
   "source": [
    "### Conclusion"
   ]
  },
  {
   "cell_type": "code",
   "execution_count": null,
   "metadata": {},
   "outputs": [],
   "source": []
  },
  {
   "cell_type": "markdown",
   "metadata": {},
   "source": [
    "TO DO:\n",
    "- graph M en x et F en y\n",
    "- graph cos sim des occ (use SVD - spicy), use spectral\n",
    "    -> use louvain to \n",
    "- graoh bipartite occ/movies (same use bispectral)"
   ]
  },
  {
   "cell_type": "code",
   "execution_count": null,
   "metadata": {},
   "outputs": [],
   "source": []
  }
 ],
 "metadata": {
  "kernelspec": {
   "display_name": "Python 3",
   "language": "python",
   "name": "python3"
  },
  "language_info": {
   "codemirror_mode": {
    "name": "ipython",
    "version": 3
   },
   "file_extension": ".py",
   "mimetype": "text/x-python",
   "name": "python",
   "nbconvert_exporter": "python",
   "pygments_lexer": "ipython3",
   "version": "3.7.4"
  }
 },
 "nbformat": 4,
 "nbformat_minor": 2
}
