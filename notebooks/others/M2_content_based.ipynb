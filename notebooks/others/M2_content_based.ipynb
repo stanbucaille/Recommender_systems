{
 "cells": [
  {
   "cell_type": "markdown",
   "metadata": {},
   "source": [
    "# Content-Based"
   ]
  },
  {
   "cell_type": "markdown",
   "metadata": {},
   "source": [
    "Source 1: https://itnext.io/what-are-the-top-recommendation-engine-algorithms-used-nowadays-646f588ce639\n",
    "\n",
    "Source 2: https://towardsdatascience.com/how-to-build-from-scratch-a-content-based-movie-recommender-with-natural-language-processing-25ad400eb243"
   ]
  },
  {
   "cell_type": "markdown",
   "metadata": {},
   "source": [
    "We have seen in the previous notebook what that the collaborative filtering methods suffer from the cold-start problem, which is that there is no efficient method to update the embeddings after adding a new item or a new user. Indeed, because these methods are computed using exclusively the feedbacks, they can’t recommend items with no history, meaning with no previous feedbacks frol users."
   ]
  },
  {
   "cell_type": "markdown",
   "metadata": {},
   "source": [
    "In order to overcome this problem, the content based methods offer an approach similar to User-User and Item-Item methods, except that the similarities between users (or items) are computed using only content-based features.\n",
    "\n",
    "The main constraints with the content based methods is that they recquire a dataset including detailed descriptions of the items/users. Because the dataset **goodbooks-10k** does not provide such details on the items/users, we will be working on this notebook with the **MovieLens-100k** dataset."
   ]
  },
  {
   "cell_type": "code",
   "execution_count": 1,
   "metadata": {},
   "outputs": [],
   "source": [
    "import numpy as np\n",
    "import pandas as pd\n",
    "import math\n",
    "from sklearn.metrics import roc_auc_score"
   ]
  },
  {
   "cell_type": "markdown",
   "metadata": {},
   "source": [
    "Dataset: **ml-100k**"
   ]
  },
  {
   "cell_type": "code",
   "execution_count": 2,
   "metadata": {},
   "outputs": [],
   "source": [
    "path_ml = \"/Users/stanislasbucaille/Desktop/data_bases/data_movieLens/ml-100k/\"\n",
    "\n",
    "users = pd.read_csv(path_ml + 'u.user', delimiter='|', header=None, names=['id','age','gender','occupation','zip code'])\n",
    "items = pd.read_csv(path_ml + 'u.item', delimiter='|', encoding='latin-1', header=None, names=['movieId','title','date','N','url',*[f'g{i}' for i in range(19)]])\n",
    "occupations = pd.read_csv(path_ml + 'u.occupation', delimiter='\\n', header=None).values\n",
    "\n",
    "train = pd.read_csv(path_ml + 'ua.base', delimiter='\\t', header=None, names=['userId','movieId','rating','timestemp'])\n",
    "test = pd.read_csv(path_ml + 'ua.test', delimiter='\\t', header=None, names=['userId','movieId','rating','timestemp'])"
   ]
  },
  {
   "cell_type": "code",
   "execution_count": 3,
   "metadata": {},
   "outputs": [],
   "source": [
    "dic_test = {}\n",
    "\n",
    "for l in range(len(test)):\n",
    "    line = test.loc[l]\n",
    "    u, i, r, t = line[0], line[1], line[2], line[3]\n",
    "    \n",
    "    # Ratings\n",
    "    dic_test[(i, u)] = r"
   ]
  },
  {
   "cell_type": "markdown",
   "metadata": {},
   "source": [
    "## 1. Users content"
   ]
  },
  {
   "cell_type": "code",
   "execution_count": 4,
   "metadata": {},
   "outputs": [
    {
     "data": {
      "text/html": [
       "<div>\n",
       "<style scoped>\n",
       "    .dataframe tbody tr th:only-of-type {\n",
       "        vertical-align: middle;\n",
       "    }\n",
       "\n",
       "    .dataframe tbody tr th {\n",
       "        vertical-align: top;\n",
       "    }\n",
       "\n",
       "    .dataframe thead th {\n",
       "        text-align: right;\n",
       "    }\n",
       "</style>\n",
       "<table border=\"1\" class=\"dataframe\">\n",
       "  <thead>\n",
       "    <tr style=\"text-align: right;\">\n",
       "      <th></th>\n",
       "      <th>id</th>\n",
       "      <th>age</th>\n",
       "      <th>gender</th>\n",
       "      <th>occupation</th>\n",
       "      <th>zip code</th>\n",
       "    </tr>\n",
       "  </thead>\n",
       "  <tbody>\n",
       "    <tr>\n",
       "      <td>0</td>\n",
       "      <td>1</td>\n",
       "      <td>24</td>\n",
       "      <td>M</td>\n",
       "      <td>technician</td>\n",
       "      <td>85711</td>\n",
       "    </tr>\n",
       "    <tr>\n",
       "      <td>1</td>\n",
       "      <td>2</td>\n",
       "      <td>53</td>\n",
       "      <td>F</td>\n",
       "      <td>other</td>\n",
       "      <td>94043</td>\n",
       "    </tr>\n",
       "  </tbody>\n",
       "</table>\n",
       "</div>"
      ],
      "text/plain": [
       "   id  age gender  occupation zip code\n",
       "0   1   24      M  technician    85711\n",
       "1   2   53      F       other    94043"
      ]
     },
     "execution_count": 4,
     "metadata": {},
     "output_type": "execute_result"
    }
   ],
   "source": [
    "users.head(2)"
   ]
  },
  {
   "cell_type": "markdown",
   "metadata": {},
   "source": [
    "Data processing"
   ]
  },
  {
   "cell_type": "code",
   "execution_count": 5,
   "metadata": {},
   "outputs": [
    {
     "data": {
      "text/plain": [
       "id            0\n",
       "age           0\n",
       "gender        0\n",
       "occupation    0\n",
       "zip code      0\n",
       "dtype: int64"
      ]
     },
     "execution_count": 5,
     "metadata": {},
     "output_type": "execute_result"
    }
   ],
   "source": [
    "users.isnull().sum(axis = 0)"
   ]
  },
  {
   "cell_type": "code",
   "execution_count": 6,
   "metadata": {},
   "outputs": [],
   "source": [
    "# Zip code\n",
    "new_users = users.drop(['zip code'], axis=1)\n",
    "\n",
    "# Gender\n",
    "new_users = new_users.replace({'M':0, 'F':1})\n",
    "\n",
    "# Occupation\n",
    "for i in range(len(occupations)):\n",
    "    occ = occupations[i][0]\n",
    "    new_users[occ] = np.zeros(len(users))\n",
    "    ids_occ = new_users.loc[users['occupation'] == occ]['id']-1\n",
    "    new_users.loc[ids_occ, occ] = 1\n",
    "new_users = new_users.drop(['id', 'occupation'], axis=1)\n",
    "\n",
    "# map age\n",
    "df_age = []\n",
    "for age in users['age']:\n",
    "    if age <= 25:\n",
    "        df_age.append([0])\n",
    "    elif 25 < age <= 50:\n",
    "        df_age.append([1])\n",
    "    elif 50 < age:\n",
    "        df_age.append([2])\n",
    "        \n",
    "new_users['age'] = pd.DataFrame(df_age)"
   ]
  },
  {
   "cell_type": "code",
   "execution_count": 7,
   "metadata": {},
   "outputs": [
    {
     "data": {
      "text/html": [
       "<div>\n",
       "<style scoped>\n",
       "    .dataframe tbody tr th:only-of-type {\n",
       "        vertical-align: middle;\n",
       "    }\n",
       "\n",
       "    .dataframe tbody tr th {\n",
       "        vertical-align: top;\n",
       "    }\n",
       "\n",
       "    .dataframe thead th {\n",
       "        text-align: right;\n",
       "    }\n",
       "</style>\n",
       "<table border=\"1\" class=\"dataframe\">\n",
       "  <thead>\n",
       "    <tr style=\"text-align: right;\">\n",
       "      <th></th>\n",
       "      <th>age</th>\n",
       "      <th>gender</th>\n",
       "      <th>administrator</th>\n",
       "      <th>artist</th>\n",
       "      <th>doctor</th>\n",
       "      <th>educator</th>\n",
       "      <th>engineer</th>\n",
       "      <th>entertainment</th>\n",
       "      <th>executive</th>\n",
       "      <th>healthcare</th>\n",
       "      <th>...</th>\n",
       "      <th>marketing</th>\n",
       "      <th>none</th>\n",
       "      <th>other</th>\n",
       "      <th>programmer</th>\n",
       "      <th>retired</th>\n",
       "      <th>salesman</th>\n",
       "      <th>scientist</th>\n",
       "      <th>student</th>\n",
       "      <th>technician</th>\n",
       "      <th>writer</th>\n",
       "    </tr>\n",
       "  </thead>\n",
       "  <tbody>\n",
       "    <tr>\n",
       "      <td>0</td>\n",
       "      <td>0</td>\n",
       "      <td>0</td>\n",
       "      <td>0.0</td>\n",
       "      <td>0.0</td>\n",
       "      <td>0.0</td>\n",
       "      <td>0.0</td>\n",
       "      <td>0.0</td>\n",
       "      <td>0.0</td>\n",
       "      <td>0.0</td>\n",
       "      <td>0.0</td>\n",
       "      <td>...</td>\n",
       "      <td>0.0</td>\n",
       "      <td>0.0</td>\n",
       "      <td>0.0</td>\n",
       "      <td>0.0</td>\n",
       "      <td>0.0</td>\n",
       "      <td>0.0</td>\n",
       "      <td>0.0</td>\n",
       "      <td>0.0</td>\n",
       "      <td>1.0</td>\n",
       "      <td>0.0</td>\n",
       "    </tr>\n",
       "    <tr>\n",
       "      <td>1</td>\n",
       "      <td>2</td>\n",
       "      <td>1</td>\n",
       "      <td>0.0</td>\n",
       "      <td>0.0</td>\n",
       "      <td>0.0</td>\n",
       "      <td>0.0</td>\n",
       "      <td>0.0</td>\n",
       "      <td>0.0</td>\n",
       "      <td>0.0</td>\n",
       "      <td>0.0</td>\n",
       "      <td>...</td>\n",
       "      <td>0.0</td>\n",
       "      <td>0.0</td>\n",
       "      <td>1.0</td>\n",
       "      <td>0.0</td>\n",
       "      <td>0.0</td>\n",
       "      <td>0.0</td>\n",
       "      <td>0.0</td>\n",
       "      <td>0.0</td>\n",
       "      <td>0.0</td>\n",
       "      <td>0.0</td>\n",
       "    </tr>\n",
       "  </tbody>\n",
       "</table>\n",
       "<p>2 rows × 23 columns</p>\n",
       "</div>"
      ],
      "text/plain": [
       "   age  gender  administrator  artist  doctor  educator  engineer  \\\n",
       "0    0       0            0.0     0.0     0.0       0.0       0.0   \n",
       "1    2       1            0.0     0.0     0.0       0.0       0.0   \n",
       "\n",
       "   entertainment  executive  healthcare  ...  marketing  none  other  \\\n",
       "0            0.0        0.0         0.0  ...        0.0   0.0    0.0   \n",
       "1            0.0        0.0         0.0  ...        0.0   0.0    1.0   \n",
       "\n",
       "   programmer  retired  salesman  scientist  student  technician  writer  \n",
       "0         0.0      0.0       0.0        0.0      0.0         1.0     0.0  \n",
       "1         0.0      0.0       0.0        0.0      0.0         0.0     0.0  \n",
       "\n",
       "[2 rows x 23 columns]"
      ]
     },
     "execution_count": 7,
     "metadata": {},
     "output_type": "execute_result"
    }
   ],
   "source": [
    "new_users.head(2)"
   ]
  },
  {
   "cell_type": "markdown",
   "metadata": {},
   "source": [
    "Apply k-means to construct clusters"
   ]
  },
  {
   "cell_type": "code",
   "execution_count": 8,
   "metadata": {},
   "outputs": [],
   "source": [
    "from sklearn.cluster import KMeans\n",
    "\n",
    "def create_clusters(data, n_clusters):\n",
    "    kmeans = KMeans(n_clusters=n_clusters, random_state=0).fit(data)\n",
    "\n",
    "    dic_clusters = {}\n",
    "    for id in range(1, len(data)):\n",
    "        id_cluster = kmeans.labels_[id]\n",
    "        if id_cluster not in dic_clusters:\n",
    "            dic_clusters[id_cluster] = [id+1]\n",
    "        else:\n",
    "            dic_clusters[id_cluster].append(id+1)\n",
    "    \n",
    "    return dic_clusters, kmeans"
   ]
  },
  {
   "cell_type": "code",
   "execution_count": 9,
   "metadata": {},
   "outputs": [
    {
     "data": {
      "text/plain": [
       "<Figure size 640x480 with 1 Axes>"
      ]
     },
     "metadata": {},
     "output_type": "display_data"
    }
   ],
   "source": [
    "import matplotlib.pyplot as plt\n",
    "\n",
    "dic_clusters, kmeans = create_clusters(new_users, 1)\n",
    "keys = []\n",
    "nb_users = []\n",
    "\n",
    "for key in dic_clusters:\n",
    "    keys.append(key)\n",
    "    nb_users.append(len(dic_clusters[key]))\n",
    "\n",
    "plt.figure()\n",
    "plt.bar(keys, nb_users)\n",
    "plt.title(\"Number of users per cluster\")\n",
    "plt.show()"
   ]
  },
  {
   "cell_type": "markdown",
   "metadata": {},
   "source": [
    "We can see that the users are nicely distributed between the different clusters."
   ]
  },
  {
   "cell_type": "code",
   "execution_count": 10,
   "metadata": {},
   "outputs": [],
   "source": [
    "def prediction_users(u, i, dic_clusters, kmeans):\n",
    "    cluster_id = kmeans.labels_[u]\n",
    "    cluster = dic_clusters[cluster_id]\n",
    "\n",
    "    n = len(cluster)\n",
    "    r = 0\n",
    "    for user in cluster:\n",
    "        try:\n",
    "            #if dic_test[(i, user)] >= 4: r += 1\n",
    "            r += dic_test[(i, user)]\n",
    "        except:\n",
    "            n -= 1\n",
    "    try:\n",
    "        #return round(r/n)\n",
    "        return r/n\n",
    "    except:\n",
    "        return('problem of sparcity')"
   ]
  },
  {
   "cell_type": "code",
   "execution_count": 11,
   "metadata": {},
   "outputs": [],
   "source": [
    "scores = []\n",
    "i = 0\n",
    "j = 0\n",
    "for u, df_u  in test.groupby(['userId']):\n",
    "    # items in the test set\n",
    "    ind = list(df_u['movieId']-1)\n",
    "    ratings = np.array(df_u['rating'] >= 4)\n",
    "\n",
    "    predicted = []\n",
    "    expected = []\n",
    "    # Prediction\n",
    "    for k in range(len(ind)):\n",
    "        try : \n",
    "            i  = ind[k]\n",
    "            r = ratings[k]\n",
    "            y_predicted = prediction_users(u, i, dic_clusters, kmeans)\n",
    "            if type(y_predicted) != str:\n",
    "                predicted.append(y_predicted)\n",
    "                if r:expected.append(1)\n",
    "                else: expected.append(0)\n",
    "        except:\n",
    "            #print(\"error 1\")\n",
    "            continue\n",
    "    try:\n",
    "        score =  roc_auc_score(expected,predicted)\n",
    "        scores.append(score)\n",
    "    except:\n",
    "        #print(\"error 2\")\n",
    "        continue\n"
   ]
  },
  {
   "cell_type": "code",
   "execution_count": 12,
   "metadata": {},
   "outputs": [
    {
     "data": {
      "text/plain": [
       "0.5556338928213929"
      ]
     },
     "execution_count": 12,
     "metadata": {},
     "output_type": "execute_result"
    }
   ],
   "source": [
    "np.mean(scores)"
   ]
  },
  {
   "cell_type": "code",
   "execution_count": 13,
   "metadata": {},
   "outputs": [
    {
     "name": "stdout",
     "output_type": "stream",
     "text": [
      "0.7547368663170462\n",
      "0.6597664543524416\n",
      "Number of unrated samples because of sparcity problem : 10 on 9430\n"
     ]
    }
   ],
   "source": [
    "n = len(test)\n",
    "prediction = []\n",
    "rating = []\n",
    "\n",
    "error1 = 0\n",
    "error2 = 0\n",
    "for j in range(1,n):\n",
    "    line = test.loc[j]\n",
    "    u, i, r, t = line[0], line[1], line[2], line[3]\n",
    "\n",
    "    try: \n",
    "        r_pred = prediction_users(u, i, dic_clusters, kmeans)\n",
    "        \n",
    "        error1 += abs(r-r_pred)\n",
    "        if int(r) != int(r_pred):\n",
    "            error2 += 1\n",
    "        prediction.append(float(r_pred))\n",
    "        if r >= 4:\n",
    "            rating.append(1)\n",
    "        else:\n",
    "            rating.append(0)\n",
    "    except:\n",
    "        n -= 1\n",
    "        \n",
    "print(error1/n)        \n",
    "print(error2/n)\n",
    "\n",
    "print('Number of unrated samples because of sparcity problem : ' + str(len(test)-n) + ' on ' + str(len(test)))"
   ]
  },
  {
   "cell_type": "code",
   "execution_count": 14,
   "metadata": {},
   "outputs": [],
   "source": [
    "#prediction, rating"
   ]
  },
  {
   "cell_type": "code",
   "execution_count": 15,
   "metadata": {},
   "outputs": [
    {
     "data": {
      "text/plain": [
       "0.746825520190006"
      ]
     },
     "execution_count": 15,
     "metadata": {},
     "output_type": "execute_result"
    }
   ],
   "source": [
    "from sklearn.metrics import roc_auc_score\n",
    "roc_auc_score(rating,prediction)"
   ]
  },
  {
   "cell_type": "markdown",
   "metadata": {},
   "source": [
    "## 2. Items content"
   ]
  },
  {
   "cell_type": "code",
   "execution_count": 53,
   "metadata": {},
   "outputs": [
    {
     "data": {
      "text/html": [
       "<div>\n",
       "<style scoped>\n",
       "    .dataframe tbody tr th:only-of-type {\n",
       "        vertical-align: middle;\n",
       "    }\n",
       "\n",
       "    .dataframe tbody tr th {\n",
       "        vertical-align: top;\n",
       "    }\n",
       "\n",
       "    .dataframe thead th {\n",
       "        text-align: right;\n",
       "    }\n",
       "</style>\n",
       "<table border=\"1\" class=\"dataframe\">\n",
       "  <thead>\n",
       "    <tr style=\"text-align: right;\">\n",
       "      <th></th>\n",
       "      <th>movieId</th>\n",
       "      <th>title</th>\n",
       "      <th>date</th>\n",
       "      <th>N</th>\n",
       "      <th>url</th>\n",
       "      <th>g0</th>\n",
       "      <th>g1</th>\n",
       "      <th>g2</th>\n",
       "      <th>g3</th>\n",
       "      <th>g4</th>\n",
       "      <th>...</th>\n",
       "      <th>g9</th>\n",
       "      <th>g10</th>\n",
       "      <th>g11</th>\n",
       "      <th>g12</th>\n",
       "      <th>g13</th>\n",
       "      <th>g14</th>\n",
       "      <th>g15</th>\n",
       "      <th>g16</th>\n",
       "      <th>g17</th>\n",
       "      <th>g18</th>\n",
       "    </tr>\n",
       "  </thead>\n",
       "  <tbody>\n",
       "    <tr>\n",
       "      <td>0</td>\n",
       "      <td>1</td>\n",
       "      <td>Toy Story (1995)</td>\n",
       "      <td>01-Jan-1995</td>\n",
       "      <td>NaN</td>\n",
       "      <td>http://us.imdb.com/M/title-exact?Toy%20Story%2...</td>\n",
       "      <td>0</td>\n",
       "      <td>0</td>\n",
       "      <td>0</td>\n",
       "      <td>1</td>\n",
       "      <td>1</td>\n",
       "      <td>...</td>\n",
       "      <td>0</td>\n",
       "      <td>0</td>\n",
       "      <td>0</td>\n",
       "      <td>0</td>\n",
       "      <td>0</td>\n",
       "      <td>0</td>\n",
       "      <td>0</td>\n",
       "      <td>0</td>\n",
       "      <td>0</td>\n",
       "      <td>0</td>\n",
       "    </tr>\n",
       "    <tr>\n",
       "      <td>1</td>\n",
       "      <td>2</td>\n",
       "      <td>GoldenEye (1995)</td>\n",
       "      <td>01-Jan-1995</td>\n",
       "      <td>NaN</td>\n",
       "      <td>http://us.imdb.com/M/title-exact?GoldenEye%20(...</td>\n",
       "      <td>0</td>\n",
       "      <td>1</td>\n",
       "      <td>1</td>\n",
       "      <td>0</td>\n",
       "      <td>0</td>\n",
       "      <td>...</td>\n",
       "      <td>0</td>\n",
       "      <td>0</td>\n",
       "      <td>0</td>\n",
       "      <td>0</td>\n",
       "      <td>0</td>\n",
       "      <td>0</td>\n",
       "      <td>0</td>\n",
       "      <td>1</td>\n",
       "      <td>0</td>\n",
       "      <td>0</td>\n",
       "    </tr>\n",
       "  </tbody>\n",
       "</table>\n",
       "<p>2 rows × 24 columns</p>\n",
       "</div>"
      ],
      "text/plain": [
       "   movieId             title         date   N  \\\n",
       "0        1  Toy Story (1995)  01-Jan-1995 NaN   \n",
       "1        2  GoldenEye (1995)  01-Jan-1995 NaN   \n",
       "\n",
       "                                                 url  g0  g1  g2  g3  g4  ...  \\\n",
       "0  http://us.imdb.com/M/title-exact?Toy%20Story%2...   0   0   0   1   1  ...   \n",
       "1  http://us.imdb.com/M/title-exact?GoldenEye%20(...   0   1   1   0   0  ...   \n",
       "\n",
       "   g9  g10  g11  g12  g13  g14  g15  g16  g17  g18  \n",
       "0   0    0    0    0    0    0    0    0    0    0  \n",
       "1   0    0    0    0    0    0    0    1    0    0  \n",
       "\n",
       "[2 rows x 24 columns]"
      ]
     },
     "execution_count": 53,
     "metadata": {},
     "output_type": "execute_result"
    }
   ],
   "source": [
    "items.head(2)"
   ]
  },
  {
   "cell_type": "markdown",
   "metadata": {},
   "source": [
    "Data processing"
   ]
  },
  {
   "cell_type": "code",
   "execution_count": 54,
   "metadata": {},
   "outputs": [],
   "source": [
    "#items.isnull().sum(axis = 0)"
   ]
  },
  {
   "cell_type": "code",
   "execution_count": 55,
   "metadata": {},
   "outputs": [],
   "source": [
    "# Drop columns\n",
    "new_items = items.drop(['movieId', 'title', 'N', 'url'], axis=1)\n",
    "\n",
    "# Date\n",
    "new_items['day'] = np.zeros(len(new_items))\n",
    "new_items['month'] = np.zeros(len(new_items))\n",
    "new_items['year'] = np.zeros(len(new_items))\n",
    "\n",
    "dic_months = {'Jan':1, 'Feb':2, 'Mar':3, 'Apr':4, 'May':5, 'Jun':6, 'Jul':7, 'Aug':8, 'Sep':9, 'Oct':10, 'Nov':11, 'Dec':12}\n",
    "\n",
    "for i in range(len(new_items)):\n",
    "    if i == 266: \n",
    "        continue\n",
    "    else:\n",
    "        date = new_items.loc[i,'date']\n",
    "        day, month, year = date.split('-')\n",
    "        month = dic_months[month]\n",
    "    \n",
    "        new_items.loc[i,'day'] = int(day)\n",
    "        new_items.loc[i,'month'] = int(month)\n",
    "        new_items.loc[i,'year'] = int(year)\n",
    "new_items = new_items.dropna(subset=['date'])\n",
    "new_items = new_items.drop(['date'], axis=1)"
   ]
  },
  {
   "cell_type": "code",
   "execution_count": 56,
   "metadata": {},
   "outputs": [
    {
     "data": {
      "text/html": [
       "<div>\n",
       "<style scoped>\n",
       "    .dataframe tbody tr th:only-of-type {\n",
       "        vertical-align: middle;\n",
       "    }\n",
       "\n",
       "    .dataframe tbody tr th {\n",
       "        vertical-align: top;\n",
       "    }\n",
       "\n",
       "    .dataframe thead th {\n",
       "        text-align: right;\n",
       "    }\n",
       "</style>\n",
       "<table border=\"1\" class=\"dataframe\">\n",
       "  <thead>\n",
       "    <tr style=\"text-align: right;\">\n",
       "      <th></th>\n",
       "      <th>g0</th>\n",
       "      <th>g1</th>\n",
       "      <th>g2</th>\n",
       "      <th>g3</th>\n",
       "      <th>g4</th>\n",
       "      <th>g5</th>\n",
       "      <th>g6</th>\n",
       "      <th>g7</th>\n",
       "      <th>g8</th>\n",
       "      <th>g9</th>\n",
       "      <th>...</th>\n",
       "      <th>g12</th>\n",
       "      <th>g13</th>\n",
       "      <th>g14</th>\n",
       "      <th>g15</th>\n",
       "      <th>g16</th>\n",
       "      <th>g17</th>\n",
       "      <th>g18</th>\n",
       "      <th>day</th>\n",
       "      <th>month</th>\n",
       "      <th>year</th>\n",
       "    </tr>\n",
       "  </thead>\n",
       "  <tbody>\n",
       "    <tr>\n",
       "      <td>0</td>\n",
       "      <td>0</td>\n",
       "      <td>0</td>\n",
       "      <td>0</td>\n",
       "      <td>1</td>\n",
       "      <td>1</td>\n",
       "      <td>1</td>\n",
       "      <td>0</td>\n",
       "      <td>0</td>\n",
       "      <td>0</td>\n",
       "      <td>0</td>\n",
       "      <td>...</td>\n",
       "      <td>0</td>\n",
       "      <td>0</td>\n",
       "      <td>0</td>\n",
       "      <td>0</td>\n",
       "      <td>0</td>\n",
       "      <td>0</td>\n",
       "      <td>0</td>\n",
       "      <td>1.0</td>\n",
       "      <td>1.0</td>\n",
       "      <td>1995.0</td>\n",
       "    </tr>\n",
       "    <tr>\n",
       "      <td>1</td>\n",
       "      <td>0</td>\n",
       "      <td>1</td>\n",
       "      <td>1</td>\n",
       "      <td>0</td>\n",
       "      <td>0</td>\n",
       "      <td>0</td>\n",
       "      <td>0</td>\n",
       "      <td>0</td>\n",
       "      <td>0</td>\n",
       "      <td>0</td>\n",
       "      <td>...</td>\n",
       "      <td>0</td>\n",
       "      <td>0</td>\n",
       "      <td>0</td>\n",
       "      <td>0</td>\n",
       "      <td>1</td>\n",
       "      <td>0</td>\n",
       "      <td>0</td>\n",
       "      <td>1.0</td>\n",
       "      <td>1.0</td>\n",
       "      <td>1995.0</td>\n",
       "    </tr>\n",
       "  </tbody>\n",
       "</table>\n",
       "<p>2 rows × 22 columns</p>\n",
       "</div>"
      ],
      "text/plain": [
       "   g0  g1  g2  g3  g4  g5  g6  g7  g8  g9  ...  g12  g13  g14  g15  g16  g17  \\\n",
       "0   0   0   0   1   1   1   0   0   0   0  ...    0    0    0    0    0    0   \n",
       "1   0   1   1   0   0   0   0   0   0   0  ...    0    0    0    0    1    0   \n",
       "\n",
       "   g18  day  month    year  \n",
       "0    0  1.0    1.0  1995.0  \n",
       "1    0  1.0    1.0  1995.0  \n",
       "\n",
       "[2 rows x 22 columns]"
      ]
     },
     "execution_count": 56,
     "metadata": {},
     "output_type": "execute_result"
    }
   ],
   "source": [
    "new_items.head(2)"
   ]
  },
  {
   "cell_type": "code",
   "execution_count": 57,
   "metadata": {},
   "outputs": [
    {
     "data": {
      "image/png": "[encoded data removed]",
      "text/plain": [
       "<Figure size 432x288 with 1 Axes>"
      ]
     },
     "metadata": {
      "needs_background": "light"
     },
     "output_type": "display_data"
    }
   ],
   "source": [
    "import matplotlib.pyplot as plt\n",
    "\n",
    "dic_clusters, kmeans = create_clusters(new_items, 10)\n",
    "keys = []\n",
    "nb_items = []\n",
    "\n",
    "for key in dic_clusters:\n",
    "    keys.append(key)\n",
    "    nb_items.append(len(dic_clusters[key]))\n",
    "\n",
    "plt.figure()\n",
    "plt.bar(keys, nb_items)\n",
    "plt.title(\"Number of items per cluster\")\n",
    "plt.show()"
   ]
  },
  {
   "cell_type": "markdown",
   "metadata": {},
   "source": [
    "We can see that a majority of movies is concentrated in a single cluster. "
   ]
  },
  {
   "cell_type": "code",
   "execution_count": 58,
   "metadata": {},
   "outputs": [],
   "source": [
    "def prediction_items(u, i, dic_clusters, kmeans):\n",
    "    cluster_id = kmeans.labels_[i]\n",
    "    cluster = dic_clusters[cluster_id]\n",
    "\n",
    "    n = len(cluster)\n",
    "    r = 0\n",
    "    for item in cluster:\n",
    "        try:\n",
    "            r += dic_test[(item, u)]\n",
    "        except:\n",
    "            n -= 1\n",
    "    try:\n",
    "        return round(r/n)\n",
    "    except:\n",
    "        return('problem of sparcity')"
   ]
  },
  {
   "cell_type": "code",
   "execution_count": 59,
   "metadata": {},
   "outputs": [
    {
     "name": "stdout",
     "output_type": "stream",
     "text": [
      "0.7838632113278119\n",
      "0.5810846914239914\n",
      "Number of unrated samples because of sparcity problem : 1944 on 9430\n"
     ]
    }
   ],
   "source": [
    "n = len(test)\n",
    "\n",
    "dic_clusters, kmeans = create_clusters(new_items, 10)\n",
    "error1 = 0\n",
    "error2 = 0\n",
    "for i in range(1,n):\n",
    "    line = test.loc[i]\n",
    "    u, i, r, t = line[0], line[1], line[2], line[3]\n",
    "\n",
    "    try: \n",
    "        r_pred = prediction_items(u, i, dic_clusters, kmeans)\n",
    "        error1 += abs(r-r_pred)\n",
    "        if int(r) != int(r_pred):\n",
    "            error2 += 1\n",
    "    except:\n",
    "        n -= 1\n",
    "        \n",
    "print(error1/n)        \n",
    "print(error2/n)\n",
    "\n",
    "print('Number of unrated samples because of sparcity problem : ' + str(len(test)-n) + ' on ' + str(len(test)))"
   ]
  },
  {
   "cell_type": "code",
   "execution_count": 60,
   "metadata": {},
   "outputs": [
    {
     "name": "stdout",
     "output_type": "stream",
     "text": [
      "0.7838632113278119\n",
      "0.5810846914239914\n",
      "Number of unrated samples because of sparcity problem : 1944 on 9430\n"
     ]
    }
   ],
   "source": [
    "n = len(test)\n",
    "prediction = []\n",
    "rating = []\n",
    "\n",
    "error1 = 0\n",
    "error2 = 0\n",
    "for j in range(1,n):\n",
    "    line = test.loc[j]\n",
    "    u, i, r, t = line[0], line[1], line[2], line[3]\n",
    "\n",
    "    try: \n",
    "        r_pred = prediction_items(u, i, dic_clusters, kmeans)\n",
    "        \n",
    "        error1 += abs(r-r_pred)\n",
    "        if int(r) != int(r_pred):\n",
    "            error2 += 1\n",
    "        prediction.append(float(r_pred))\n",
    "        if r >= 4:\n",
    "            rating.append(1)\n",
    "        else:\n",
    "            rating.append(0)\n",
    "    except:\n",
    "        n -= 1\n",
    "        \n",
    "print(error1/n)        \n",
    "print(error2/n)\n",
    "\n",
    "print('Number of unrated samples because of sparcity problem : ' + str(len(test)-n) + ' on ' + str(len(test)))"
   ]
  },
  {
   "cell_type": "code",
   "execution_count": 61,
   "metadata": {},
   "outputs": [
    {
     "data": {
      "text/plain": [
       "0.6829288725317978"
      ]
     },
     "execution_count": 61,
     "metadata": {},
     "output_type": "execute_result"
    }
   ],
   "source": [
    "from sklearn.metrics import roc_auc_score\n",
    "roc_auc_score(rating,prediction)"
   ]
  },
  {
   "cell_type": "markdown",
   "metadata": {},
   "source": [
    "## Results"
   ]
  },
  {
   "cell_type": "markdown",
   "metadata": {},
   "source": [
    "**error1** : average distance between the actual rating and the predicted one\n",
    "\n",
    "**error2** : percentage of correctly predicted ratings"
   ]
  },
  {
   "cell_type": "markdown",
   "metadata": {},
   "source": [
    "User - Content base method:\n",
    "- error1 = 0.8857306919322423\n",
    "- error2 = 0.6415446454206144\n",
    "\n",
    "Item - Content base method:\n",
    "- error1 = 0.7838632113278119\n",
    "- error2 = 0.5810846914239914"
   ]
  },
  {
   "cell_type": "markdown",
   "metadata": {},
   "source": [
    "## Conclusion"
   ]
  },
  {
   "cell_type": "markdown",
   "metadata": {},
   "source": [
    "We can see that the method based on items content perfoms better than the method based on users content. Furtheremore, we can notice that a nice distribution of items/users in the clusters does not necessarily imply a better performance.\n",
    "\n",
    "Finally, even though these methods are a solution to the cold-start problem, they do not seam to perfom as well as the Latent Factorization method.\n",
    "\n",
    "Thus, in order to construct an efficent method for recommander systems, we can think of an **hybrid method**, which is the goal of my next notebook."
   ]
  }
 ],
 "metadata": {
  "kernelspec": {
   "display_name": "Python 3",
   "language": "python",
   "name": "python3"
  },
  "language_info": {
   "codemirror_mode": {
    "name": "ipython",
    "version": 3
   },
   "file_extension": ".py",
   "mimetype": "text/x-python",
   "name": "python",
   "nbconvert_exporter": "python",
   "pygments_lexer": "ipython3",
   "version": "3.7.4"
  }
 },
 "nbformat": 4,
 "nbformat_minor": 2
}
