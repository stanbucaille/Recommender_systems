{
 "cells": [
  {
   "cell_type": "markdown",
   "metadata": {},
   "source": [
    "# GNN: Graph Neural Network"
   ]
  },
  {
   "cell_type": "markdown",
   "metadata": {},
   "source": [
    "learning representations of the nodes\n",
    "\n",
    "representations that we learn from graphs can encode properties of the structure of the graph\n",
    "\n",
    "Uses insights from:\n",
    "- past order\n",
    "- food items connected to past orders\n",
    "- similar users\n",
    "\n",
    "Objective: find a vector representation such that nodes that are structurally similar in the graph have similar representations.`\n",
    "\n",
    "**Why GNNs?**\n",
    "Use a neural network to obtain a representation for a node by aggregating the representations of neighboring nodes in a recursive fashion limited to a certain depth.\n",
    "\n",
    "Advantages:\n",
    "- Learning scalable to large graphs (neighboring nodes are sampled to be a certain fixed amount when obtaining the representation of a specific node)\n",
    "- A representation can be induced for a newly added node by virtue of its basic features and connections."
   ]
  },
  {
   "cell_type": "markdown",
   "metadata": {},
   "source": [
    "The Uber Eats recommendation system can be broken down into two phases: \n",
    "- **candidate generation**: pre-filtering can be based on factors such as geographical location\n",
    "- **personalized ranking**: ML model that ranks the pre-filtered dish and restaurant candidates based on additional contextual information (ordering certain types of food on specific days of the week or different types of dishes for lunch and dinner)\n",
    "\n",
    "Two bipartite graphs: \n",
    "- nodes (users, dishes) and edges (number of times a user ordered a specific dish)\n",
    "- nodes (users, restaurants) and edges (how many times a user ordered from a specific restaurant)"
   ]
  },
  {
   "cell_type": "markdown",
   "metadata": {},
   "source": [
    "https://github.com/Quantyca/demo-ateam-ai-misc/blob/master/recommendation/CollabMovielens.ipynb"
   ]
  },
  {
   "cell_type": "markdown",
   "metadata": {},
   "source": [
    "https://github.com/williamleif/GraphSAGE/blob/master/README.md"
   ]
  },
  {
   "cell_type": "code",
   "execution_count": 172,
   "metadata": {},
   "outputs": [],
   "source": [
    "import numpy as np"
   ]
  },
  {
   "cell_type": "code",
   "execution_count": 180,
   "metadata": {},
   "outputs": [],
   "source": [
    "data = [[1,2,4],\n",
    "        [1,3,2],\n",
    "        [2,1,3],\n",
    "        [2,2,2],\n",
    "        [3,1,5],\n",
    "        [3,3,3]]\n",
    "\n",
    "users = set([1,2,3,4,5,6,7])\n",
    "items = set([1,2,3])"
   ]
  },
  {
   "cell_type": "code",
   "execution_count": 181,
   "metadata": {},
   "outputs": [],
   "source": [
    "# Using a Python dictionary to act as an adjacency list\n",
    "graph = {\n",
    "    1 : [2,3],\n",
    "    2 : [1,2],\n",
    "    3 : [1,3]}"
   ]
  },
  {
   "cell_type": "code",
   "execution_count": 182,
   "metadata": {},
   "outputs": [],
   "source": [
    "users_feat = {\n",
    "    1 : np.array([1,1,1]),\n",
    "    2 : np.array([1,1,1]),\n",
    "    3 : np.array([1,1,1])}\n",
    "\n",
    "items_feat = {\n",
    "    1 : np.array([2,2,2]),\n",
    "    2 : np.array([2,2,2]),\n",
    "    3 : np.array([2,2,2])}"
   ]
  },
  {
   "cell_type": "code",
   "execution_count": 183,
   "metadata": {},
   "outputs": [],
   "source": [
    "def W(k):\n",
    "    w = np.array([[1,0,0],\n",
    "                  [0,1,0],\n",
    "                  [0,0,1]])\n",
    "    return w\n",
    "\n",
    "def B(k):\n",
    "    b = np.array([[1,0,0],\n",
    "                  [0,1,0],\n",
    "                  [0,0,1]])\n",
    "    return b"
   ]
  },
  {
   "cell_type": "code",
   "execution_count": 184,
   "metadata": {},
   "outputs": [],
   "source": [
    "sigma = 0.01\n",
    "\n",
    "def h(k,v):\n",
    "    if k == 0:\n",
    "        #print('Leaf')\n",
    "        #print(nodes_feat[v])\n",
    "        return nodes_feat[v]\n",
    "    else:\n",
    "        #print('node : ' + str(v))\n",
    "        N = graph[v]\n",
    "        #print('----' + str(k) +'----')\n",
    "        agg = sum([h(k-1,u)/len(N) for u in N])\n",
    "        #print('----------')\n",
    "        return sigma*(np.dot(W(k),agg) + np.dot(B(k),h(k-1,v)))"
   ]
  },
  {
   "cell_type": "code",
   "execution_count": 185,
   "metadata": {},
   "outputs": [
    {
     "name": "stdout",
     "output_type": "stream",
     "text": [
      "Racine : 1\n",
      "[0.035 0.035 0.035]\n",
      "[0.035 0.035 0.035]\n",
      "[0.05 0.05 0.05]\n"
     ]
    }
   ],
   "source": [
    "print('Racine : ' + str(1))\n",
    "print(h(1,1))\n",
    "print(h(1,2))\n",
    "print(h(1,3))"
   ]
  },
  {
   "cell_type": "code",
   "execution_count": 186,
   "metadata": {},
   "outputs": [],
   "source": [
    "import random\n",
    "delta = 1\n",
    "\n",
    "def loss(data, k):\n",
    "    l = 0\n",
    "    for line in data:\n",
    "        u, v, r = line[0],line[1],line[2]\n",
    "        N = graph[u]\n",
    "        \n",
    "        # Nodes not connected to u\n",
    "        not_N = users\n",
    "        for i in N:\n",
    "            not_N.discard(i)\n",
    "        \n",
    "        # Select random node from not_N\n",
    "        n = random.choice(list(not_N))\n",
    "        \n",
    "        # Get node embedding\n",
    "        z_u = h(k,u)\n",
    "        z_v = h(k,v)\n",
    "        z_n = h(k,n)\n",
    "        \n",
    "        l += max(0, delta + np.dot(z_u,z_v) - np.dot(z_u,z_n))\n",
    "    return l"
   ]
  },
  {
   "cell_type": "code",
   "execution_count": 187,
   "metadata": {},
   "outputs": [],
   "source": [
    "def similarity(u,i):\n",
    "    z_u = h(k,u)\n",
    "    z_v = h(k,i)\n",
    "    s = 0\n",
    "    for i in range(len(z_u)):\n",
    "        s += (z_u[i]-z_v[i])**2\n",
    "    return np.sqrt(s)"
   ]
  },
  {
   "cell_type": "code",
   "execution_count": null,
   "metadata": {},
   "outputs": [],
   "source": [
    "def GNN():"
   ]
  },
  {
   "cell_type": "markdown",
   "metadata": {},
   "source": [
    "### DFS"
   ]
  },
  {
   "cell_type": "code",
   "execution_count": null,
   "metadata": {},
   "outputs": [],
   "source": [
    "visited = set() # Set to keep track of visited nodes.\n",
    "\n",
    "def dfs(visited, graph, node, level):\n",
    "    print(str(node) + ' (level ' + str(level) + ')')\n",
    "    level -= 1\n",
    "    if level != 0:\n",
    "            visited.add(node)\n",
    "            for neighbour in graph[node]:\n",
    "                dfs(visited, graph, neighbour,level)\n",
    "                \n",
    "#dfs(visited, graph, 'A', 3)"
   ]
  }
 ],
 "metadata": {
  "kernelspec": {
   "display_name": "Python 3",
   "language": "python",
   "name": "python3"
  },
  "language_info": {
   "codemirror_mode": {
    "name": "ipython",
    "version": 3
   },
   "file_extension": ".py",
   "mimetype": "text/x-python",
   "name": "python",
   "nbconvert_exporter": "python",
   "pygments_lexer": "ipython3",
   "version": "3.7.4"
  }
 },
 "nbformat": 4,
 "nbformat_minor": 2
}
